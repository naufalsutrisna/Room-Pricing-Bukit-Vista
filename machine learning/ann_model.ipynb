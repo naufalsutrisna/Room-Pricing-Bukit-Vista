{
  "cells": [
    {
      "cell_type": "code",
      "execution_count": 1,
      "metadata": {},
      "outputs": [
        {
          "name": "stderr",
          "output_type": "stream",
          "text": [
            "2024-06-09 21:42:29.046308: I tensorflow/core/platform/cpu_feature_guard.cc:210] This TensorFlow binary is optimized to use available CPU instructions in performance-critical operations.\n",
            "To enable the following instructions: AVX2 AVX512F AVX512_VNNI FMA, in other operations, rebuild TensorFlow with the appropriate compiler flags.\n"
          ]
        }
      ],
      "source": [
        "import numpy as np\n",
        "import pandas as pd\n",
        "from sklearn.model_selection import train_test_split\n",
        "import tensorflow as tf\n",
        "import os"
      ]
    },
    {
      "cell_type": "code",
      "execution_count": 2,
      "metadata": {},
      "outputs": [],
      "source": [
        "data_path = os.path.join(os.getcwd(), '..', '..', 'data', 'preprocessed_data.csv')"
      ]
    },
    {
      "cell_type": "code",
      "execution_count": 3,
      "metadata": {
        "colab": {
          "base_uri": "https://localhost:8080/",
          "height": 463
        },
        "id": "q5Uo34pDhgnn",
        "outputId": "2188ef82-3f04-4f34-e865-d8bcc78bb8ac"
      },
      "outputs": [
        {
          "data": {
            "text/html": [
              "<div>\n",
              "<style scoped>\n",
              "    .dataframe tbody tr th:only-of-type {\n",
              "        vertical-align: middle;\n",
              "    }\n",
              "\n",
              "    .dataframe tbody tr th {\n",
              "        vertical-align: top;\n",
              "    }\n",
              "\n",
              "    .dataframe thead th {\n",
              "        text-align: right;\n",
              "    }\n",
              "</style>\n",
              "<table border=\"1\" class=\"dataframe\">\n",
              "  <thead>\n",
              "    <tr style=\"text-align: right;\">\n",
              "      <th></th>\n",
              "      <th>property_name</th>\n",
              "      <th>room_id</th>\n",
              "      <th>bedroom</th>\n",
              "      <th>bathroom</th>\n",
              "      <th>beds</th>\n",
              "      <th>guests</th>\n",
              "      <th>wifi</th>\n",
              "      <th>tv</th>\n",
              "      <th>cable_tv</th>\n",
              "      <th>ac</th>\n",
              "      <th>...</th>\n",
              "      <th>building_staff</th>\n",
              "      <th>lat</th>\n",
              "      <th>lng</th>\n",
              "      <th>distance_to_coastline</th>\n",
              "      <th>booking_window</th>\n",
              "      <th>stay_duration_in_days</th>\n",
              "      <th>avg_rating</th>\n",
              "      <th>avg_review_sentiment_score</th>\n",
              "      <th>rating_count</th>\n",
              "      <th>average_daily_rate</th>\n",
              "    </tr>\n",
              "  </thead>\n",
              "  <tbody>\n",
              "    <tr>\n",
              "      <th>0</th>\n",
              "      <td>Bingin Ombak</td>\n",
              "      <td>431874</td>\n",
              "      <td>1</td>\n",
              "      <td>1</td>\n",
              "      <td>1</td>\n",
              "      <td>2</td>\n",
              "      <td>1</td>\n",
              "      <td>0</td>\n",
              "      <td>0</td>\n",
              "      <td>1</td>\n",
              "      <td>...</td>\n",
              "      <td>0</td>\n",
              "      <td>-8.805646</td>\n",
              "      <td>115.113378</td>\n",
              "      <td>15.6035</td>\n",
              "      <td>81</td>\n",
              "      <td>4</td>\n",
              "      <td>4.3158</td>\n",
              "      <td>0.565051</td>\n",
              "      <td>19</td>\n",
              "      <td>1.477799e+06</td>\n",
              "    </tr>\n",
              "    <tr>\n",
              "      <th>1</th>\n",
              "      <td>Bingin Ombak</td>\n",
              "      <td>431875</td>\n",
              "      <td>1</td>\n",
              "      <td>1</td>\n",
              "      <td>1</td>\n",
              "      <td>2</td>\n",
              "      <td>1</td>\n",
              "      <td>0</td>\n",
              "      <td>0</td>\n",
              "      <td>1</td>\n",
              "      <td>...</td>\n",
              "      <td>0</td>\n",
              "      <td>-8.805646</td>\n",
              "      <td>115.113378</td>\n",
              "      <td>15.6035</td>\n",
              "      <td>81</td>\n",
              "      <td>4</td>\n",
              "      <td>4.0857</td>\n",
              "      <td>0.518720</td>\n",
              "      <td>35</td>\n",
              "      <td>1.477799e+06</td>\n",
              "    </tr>\n",
              "    <tr>\n",
              "      <th>2</th>\n",
              "      <td>Bingin Ombak</td>\n",
              "      <td>396658</td>\n",
              "      <td>1</td>\n",
              "      <td>1</td>\n",
              "      <td>1</td>\n",
              "      <td>2</td>\n",
              "      <td>1</td>\n",
              "      <td>0</td>\n",
              "      <td>0</td>\n",
              "      <td>1</td>\n",
              "      <td>...</td>\n",
              "      <td>0</td>\n",
              "      <td>-8.805646</td>\n",
              "      <td>115.113378</td>\n",
              "      <td>15.6035</td>\n",
              "      <td>81</td>\n",
              "      <td>4</td>\n",
              "      <td>4.0857</td>\n",
              "      <td>0.518720</td>\n",
              "      <td>35</td>\n",
              "      <td>1.477799e+06</td>\n",
              "    </tr>\n",
              "    <tr>\n",
              "      <th>3</th>\n",
              "      <td>Bingin Ombak</td>\n",
              "      <td>396427</td>\n",
              "      <td>1</td>\n",
              "      <td>2</td>\n",
              "      <td>1</td>\n",
              "      <td>2</td>\n",
              "      <td>1</td>\n",
              "      <td>0</td>\n",
              "      <td>0</td>\n",
              "      <td>0</td>\n",
              "      <td>...</td>\n",
              "      <td>0</td>\n",
              "      <td>-8.805646</td>\n",
              "      <td>115.113378</td>\n",
              "      <td>15.6035</td>\n",
              "      <td>81</td>\n",
              "      <td>4</td>\n",
              "      <td>4.5342</td>\n",
              "      <td>0.678392</td>\n",
              "      <td>164</td>\n",
              "      <td>1.477799e+06</td>\n",
              "    </tr>\n",
              "    <tr>\n",
              "      <th>4</th>\n",
              "      <td>Bingin Ombak</td>\n",
              "      <td>396427</td>\n",
              "      <td>1</td>\n",
              "      <td>2</td>\n",
              "      <td>1</td>\n",
              "      <td>2</td>\n",
              "      <td>1</td>\n",
              "      <td>0</td>\n",
              "      <td>0</td>\n",
              "      <td>0</td>\n",
              "      <td>...</td>\n",
              "      <td>0</td>\n",
              "      <td>-8.805646</td>\n",
              "      <td>115.113378</td>\n",
              "      <td>15.6035</td>\n",
              "      <td>81</td>\n",
              "      <td>4</td>\n",
              "      <td>4.5342</td>\n",
              "      <td>0.678392</td>\n",
              "      <td>164</td>\n",
              "      <td>1.477799e+06</td>\n",
              "    </tr>\n",
              "  </tbody>\n",
              "</table>\n",
              "<p>5 rows × 39 columns</p>\n",
              "</div>"
            ],
            "text/plain": [
              "  property_name  room_id  bedroom  bathroom  beds  guests  wifi  tv  cable_tv  \\\n",
              "0  Bingin Ombak   431874        1         1     1       2     1   0         0   \n",
              "1  Bingin Ombak   431875        1         1     1       2     1   0         0   \n",
              "2  Bingin Ombak   396658        1         1     1       2     1   0         0   \n",
              "3  Bingin Ombak   396427        1         2     1       2     1   0         0   \n",
              "4  Bingin Ombak   396427        1         2     1       2     1   0         0   \n",
              "\n",
              "   ac  ...  building_staff       lat         lng  distance_to_coastline  \\\n",
              "0   1  ...               0 -8.805646  115.113378                15.6035   \n",
              "1   1  ...               0 -8.805646  115.113378                15.6035   \n",
              "2   1  ...               0 -8.805646  115.113378                15.6035   \n",
              "3   0  ...               0 -8.805646  115.113378                15.6035   \n",
              "4   0  ...               0 -8.805646  115.113378                15.6035   \n",
              "\n",
              "   booking_window  stay_duration_in_days  avg_rating  \\\n",
              "0              81                      4      4.3158   \n",
              "1              81                      4      4.0857   \n",
              "2              81                      4      4.0857   \n",
              "3              81                      4      4.5342   \n",
              "4              81                      4      4.5342   \n",
              "\n",
              "   avg_review_sentiment_score  rating_count  average_daily_rate  \n",
              "0                    0.565051            19        1.477799e+06  \n",
              "1                    0.518720            35        1.477799e+06  \n",
              "2                    0.518720            35        1.477799e+06  \n",
              "3                    0.678392           164        1.477799e+06  \n",
              "4                    0.678392           164        1.477799e+06  \n",
              "\n",
              "[5 rows x 39 columns]"
            ]
          },
          "execution_count": 3,
          "metadata": {},
          "output_type": "execute_result"
        }
      ],
      "source": [
        "df = pd.read_csv(data_path)\n",
        "df.head()"
      ]
    },
    {
      "cell_type": "markdown",
      "metadata": {
        "id": "NZmdIQi8jxNw"
      },
      "source": [
        "## Prepare the data"
      ]
    },
    {
      "cell_type": "code",
      "execution_count": 4,
      "metadata": {
        "id": "toSrIQWOi-Eo"
      },
      "outputs": [],
      "source": [
        "X = df.drop(columns=['property_name', 'room_id', 'average_daily_rate'])\n",
        "y = df['average_daily_rate']"
      ]
    },
    {
      "cell_type": "code",
      "execution_count": 5,
      "metadata": {},
      "outputs": [],
      "source": [
        "X_train, X_test, y_train, y_test = train_test_split(X, y, test_size=0.2, random_state=42)"
      ]
    },
    {
      "cell_type": "markdown",
      "metadata": {
        "id": "zWf9w0b02gjc"
      },
      "source": [
        "## Model"
      ]
    },
    {
      "cell_type": "code",
      "execution_count": 6,
      "metadata": {
        "id": "7TDzrwZy2Zc8"
      },
      "outputs": [
        {
          "name": "stdout",
          "output_type": "stream",
          "text": [
            "Epoch 1/10\n",
            "\u001b[1m1421/1421\u001b[0m \u001b[32m━━━━━━━━━━━━━━━━━━━━\u001b[0m\u001b[37m\u001b[0m \u001b[1m52s\u001b[0m 18ms/step - loss: 374077.8125 - mean_absolute_error: 374077.8125 - val_loss: 224532.9062 - val_mean_absolute_error: 224532.9062\n",
            "Epoch 2/10\n",
            "\u001b[1m1421/1421\u001b[0m \u001b[32m━━━━━━━━━━━━━━━━━━━━\u001b[0m\u001b[37m\u001b[0m \u001b[1m38s\u001b[0m 16ms/step - loss: 222145.0938 - mean_absolute_error: 222145.0938 - val_loss: 213681.1094 - val_mean_absolute_error: 213681.1094\n",
            "Epoch 3/10\n",
            "\u001b[1m1421/1421\u001b[0m \u001b[32m━━━━━━━━━━━━━━━━━━━━\u001b[0m\u001b[37m\u001b[0m \u001b[1m68s\u001b[0m 35ms/step - loss: 213772.6250 - mean_absolute_error: 213772.6250 - val_loss: 208058.6094 - val_mean_absolute_error: 208058.6094\n",
            "Epoch 4/10\n",
            "\u001b[1m1421/1421\u001b[0m \u001b[32m━━━━━━━━━━━━━━━━━━━━\u001b[0m\u001b[37m\u001b[0m \u001b[1m29s\u001b[0m 20ms/step - loss: 208767.3750 - mean_absolute_error: 208767.3750 - val_loss: 203514.0469 - val_mean_absolute_error: 203514.0469\n",
            "Epoch 5/10\n",
            "\u001b[1m1421/1421\u001b[0m \u001b[32m━━━━━━━━━━━━━━━━━━━━\u001b[0m\u001b[37m\u001b[0m \u001b[1m44s\u001b[0m 31ms/step - loss: 200756.3438 - mean_absolute_error: 200756.3438 - val_loss: 196708.9844 - val_mean_absolute_error: 196708.9844\n",
            "Epoch 6/10\n",
            "\u001b[1m1421/1421\u001b[0m \u001b[32m━━━━━━━━━━━━━━━━━━━━\u001b[0m\u001b[37m\u001b[0m \u001b[1m83s\u001b[0m 58ms/step - loss: 194397.6250 - mean_absolute_error: 194397.6250 - val_loss: 187171.2656 - val_mean_absolute_error: 187171.2656\n",
            "Epoch 7/10\n",
            "\u001b[1m1421/1421\u001b[0m \u001b[32m━━━━━━━━━━━━━━━━━━━━\u001b[0m\u001b[37m\u001b[0m \u001b[1m122s\u001b[0m 45ms/step - loss: 183507.7812 - mean_absolute_error: 183507.7812 - val_loss: 180047.8281 - val_mean_absolute_error: 180047.8281\n",
            "Epoch 8/10\n",
            "\u001b[1m1421/1421\u001b[0m \u001b[32m━━━━━━━━━━━━━━━━━━━━\u001b[0m\u001b[37m\u001b[0m \u001b[1m23s\u001b[0m 16ms/step - loss: 180521.0625 - mean_absolute_error: 180521.0625 - val_loss: 179076.0938 - val_mean_absolute_error: 179076.0938\n",
            "Epoch 9/10\n",
            "\u001b[1m1421/1421\u001b[0m \u001b[32m━━━━━━━━━━━━━━━━━━━━\u001b[0m\u001b[37m\u001b[0m \u001b[1m56s\u001b[0m 27ms/step - loss: 178004.4062 - mean_absolute_error: 178004.4062 - val_loss: 175012.9062 - val_mean_absolute_error: 175012.9062\n",
            "Epoch 10/10\n",
            "\u001b[1m1421/1421\u001b[0m \u001b[32m━━━━━━━━━━━━━━━━━━━━\u001b[0m\u001b[37m\u001b[0m \u001b[1m40s\u001b[0m 26ms/step - loss: 172113.5938 - mean_absolute_error: 172113.5938 - val_loss: 172264.0000 - val_mean_absolute_error: 172264.0000\n"
          ]
        }
      ],
      "source": [
        "model = tf.keras.Sequential([\n",
        "    tf.keras.layers.Input(shape=(X_train.shape[1],)),\n",
        "    tf.keras.layers.Dense(128, activation='relu'),\n",
        "    tf.keras.layers.Dense(64, activation='relu'),\n",
        "    tf.keras.layers.Dense(32, activation='relu'),\n",
        "    tf.keras.layers.Dense(16, activation='relu'),\n",
        "    tf.keras.layers.Dense(1)\n",
        "])\n",
        "\n",
        "model.compile(optimizer=tf.keras.optimizers.Adam(learning_rate=0.001), \n",
        "              loss=tf.keras.losses.MeanAbsoluteError(),\n",
        "              metrics=[tf.keras.metrics.MeanAbsoluteError()])\n",
        "\n",
        "history = model.fit(X_train, \n",
        "          y_train, \n",
        "          epochs=10,\n",
        "          batch_size=32,\n",
        "          validation_data=(X_test, y_test))"
      ]
    },
    {
      "cell_type": "code",
      "execution_count": 25,
      "metadata": {},
      "outputs": [
        {
          "data": {
            "text/html": [
              "<div>\n",
              "<style scoped>\n",
              "    .dataframe tbody tr th:only-of-type {\n",
              "        vertical-align: middle;\n",
              "    }\n",
              "\n",
              "    .dataframe tbody tr th {\n",
              "        vertical-align: top;\n",
              "    }\n",
              "\n",
              "    .dataframe thead th {\n",
              "        text-align: right;\n",
              "    }\n",
              "</style>\n",
              "<table border=\"1\" class=\"dataframe\">\n",
              "  <thead>\n",
              "    <tr style=\"text-align: right;\">\n",
              "      <th></th>\n",
              "      <th>loss</th>\n",
              "      <th>mean_absolute_error</th>\n",
              "      <th>val_loss</th>\n",
              "      <th>val_mean_absolute_error</th>\n",
              "      <th>epoch</th>\n",
              "    </tr>\n",
              "  </thead>\n",
              "  <tbody>\n",
              "    <tr>\n",
              "      <th>95</th>\n",
              "      <td>142982.390625</td>\n",
              "      <td>142982.390625</td>\n",
              "      <td>144725.078125</td>\n",
              "      <td>144725.078125</td>\n",
              "      <td>95</td>\n",
              "    </tr>\n",
              "    <tr>\n",
              "      <th>96</th>\n",
              "      <td>142849.531250</td>\n",
              "      <td>142849.531250</td>\n",
              "      <td>145049.984375</td>\n",
              "      <td>145049.984375</td>\n",
              "      <td>96</td>\n",
              "    </tr>\n",
              "    <tr>\n",
              "      <th>97</th>\n",
              "      <td>142530.328125</td>\n",
              "      <td>142530.328125</td>\n",
              "      <td>144330.031250</td>\n",
              "      <td>144330.031250</td>\n",
              "      <td>97</td>\n",
              "    </tr>\n",
              "    <tr>\n",
              "      <th>98</th>\n",
              "      <td>142652.875000</td>\n",
              "      <td>142652.875000</td>\n",
              "      <td>142145.718750</td>\n",
              "      <td>142145.718750</td>\n",
              "      <td>98</td>\n",
              "    </tr>\n",
              "    <tr>\n",
              "      <th>99</th>\n",
              "      <td>142521.937500</td>\n",
              "      <td>142521.937500</td>\n",
              "      <td>148745.468750</td>\n",
              "      <td>148745.468750</td>\n",
              "      <td>99</td>\n",
              "    </tr>\n",
              "  </tbody>\n",
              "</table>\n",
              "</div>"
            ],
            "text/plain": [
              "             loss  mean_absolute_error       val_loss  \\\n",
              "95  142982.390625        142982.390625  144725.078125   \n",
              "96  142849.531250        142849.531250  145049.984375   \n",
              "97  142530.328125        142530.328125  144330.031250   \n",
              "98  142652.875000        142652.875000  142145.718750   \n",
              "99  142521.937500        142521.937500  148745.468750   \n",
              "\n",
              "    val_mean_absolute_error  epoch  \n",
              "95            144725.078125     95  \n",
              "96            145049.984375     96  \n",
              "97            144330.031250     97  \n",
              "98            142145.718750     98  \n",
              "99            148745.468750     99  "
            ]
          },
          "execution_count": 25,
          "metadata": {},
          "output_type": "execute_result"
        }
      ],
      "source": [
        "hist = pd.DataFrame(history.history)\n",
        "hist['epoch'] = history.epoch\n",
        "hist.tail()"
      ]
    },
    {
      "cell_type": "code",
      "execution_count": 26,
      "metadata": {},
      "outputs": [
        {
          "data": {
            "image/png": "[encoded data removed]",
            "text/plain": [
              "<Figure size 1000x600 with 1 Axes>"
            ]
          },
          "metadata": {},
          "output_type": "display_data"
        }
      ],
      "source": [
        "import matplotlib.pyplot as plt\n",
        "\n",
        "plt.figure(figsize=(10, 6))\n",
        "plt.plot(hist['epoch'], hist['mean_absolute_error'], label='Training MAE')\n",
        "plt.plot(hist['epoch'], hist['val_mean_absolute_error'], label='Validation MAE')\n",
        "plt.xlabel('Epoch')\n",
        "plt.ylabel('Mean Absolute Error')\n",
        "plt.title('Training and Validation MAE')\n",
        "plt.legend()\n",
        "plt.grid(True)\n",
        "plt.show()\n"
      ]
    }
  ],
  "metadata": {
    "accelerator": "GPU",
    "colab": {
      "gpuType": "T4",
      "provenance": []
    },
    "kernelspec": {
      "display_name": "Python 3",
      "name": "python3"
    },
    "language_info": {
      "codemirror_mode": {
        "name": "ipython",
        "version": 3
      },
      "file_extension": ".py",
      "mimetype": "text/x-python",
      "name": "python",
      "nbconvert_exporter": "python",
      "pygments_lexer": "ipython3",
      "version": "3.11.2"
    }
  },
  "nbformat": 4,
  "nbformat_minor": 0
}
