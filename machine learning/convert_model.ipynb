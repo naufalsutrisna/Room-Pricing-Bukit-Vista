{
 "cells": [
  {
   "cell_type": "code",
   "execution_count": 1,
   "metadata": {},
   "outputs": [
    {
     "name": "stderr",
     "output_type": "stream",
     "text": [
      "2024-05-25 12:08:44.217071: I tensorflow/core/platform/cpu_feature_guard.cc:210] This TensorFlow binary is optimized to use available CPU instructions in performance-critical operations.\n",
      "To enable the following instructions: AVX2 AVX512F AVX512_VNNI FMA, in other operations, rebuild TensorFlow with the appropriate compiler flags.\n"
     ]
    }
   ],
   "source": [
    "import pandas as pd\n",
    "import numpy as np\n",
    "import tensorflow as tf\n",
    "import os\n",
    "from sklearn.metrics import mean_absolute_error"
   ]
  },
  {
   "cell_type": "code",
   "execution_count": 2,
   "metadata": {},
   "outputs": [],
   "source": [
    "data_path = os.path.join(os.getcwd(), '..', '..', 'data', 'preprocessed_data.csv')"
   ]
  },
  {
   "cell_type": "code",
   "execution_count": 3,
   "metadata": {},
   "outputs": [
    {
     "data": {
      "text/html": [
       "<div>\n",
       "<style scoped>\n",
       "    .dataframe tbody tr th:only-of-type {\n",
       "        vertical-align: middle;\n",
       "    }\n",
       "\n",
       "    .dataframe tbody tr th {\n",
       "        vertical-align: top;\n",
       "    }\n",
       "\n",
       "    .dataframe thead th {\n",
       "        text-align: right;\n",
       "    }\n",
       "</style>\n",
       "<table border=\"1\" class=\"dataframe\">\n",
       "  <thead>\n",
       "    <tr style=\"text-align: right;\">\n",
       "      <th></th>\n",
       "      <th>bedroom</th>\n",
       "      <th>bathroom</th>\n",
       "      <th>beds</th>\n",
       "      <th>guests</th>\n",
       "      <th>wifi</th>\n",
       "      <th>tv</th>\n",
       "      <th>cable_tv</th>\n",
       "      <th>ac</th>\n",
       "      <th>workspace</th>\n",
       "      <th>hot_water</th>\n",
       "      <th>...</th>\n",
       "      <th>beachfront</th>\n",
       "      <th>building_staff</th>\n",
       "      <th>lat</th>\n",
       "      <th>lng</th>\n",
       "      <th>distance_to_coastline</th>\n",
       "      <th>booking_window</th>\n",
       "      <th>stay_duration_in_days</th>\n",
       "      <th>review_sentiment_score</th>\n",
       "      <th>rating</th>\n",
       "      <th>booking_earned</th>\n",
       "    </tr>\n",
       "  </thead>\n",
       "  <tbody>\n",
       "    <tr>\n",
       "      <th>0</th>\n",
       "      <td>1</td>\n",
       "      <td>1</td>\n",
       "      <td>1</td>\n",
       "      <td>2</td>\n",
       "      <td>1</td>\n",
       "      <td>0</td>\n",
       "      <td>0</td>\n",
       "      <td>1</td>\n",
       "      <td>1</td>\n",
       "      <td>1</td>\n",
       "      <td>...</td>\n",
       "      <td>1</td>\n",
       "      <td>0</td>\n",
       "      <td>-8.805646</td>\n",
       "      <td>115.113378</td>\n",
       "      <td>15.6035</td>\n",
       "      <td>81</td>\n",
       "      <td>4</td>\n",
       "      <td>0.458603</td>\n",
       "      <td>4.0</td>\n",
       "      <td>5911197.97</td>\n",
       "    </tr>\n",
       "    <tr>\n",
       "      <th>1</th>\n",
       "      <td>1</td>\n",
       "      <td>1</td>\n",
       "      <td>1</td>\n",
       "      <td>2</td>\n",
       "      <td>1</td>\n",
       "      <td>0</td>\n",
       "      <td>0</td>\n",
       "      <td>1</td>\n",
       "      <td>1</td>\n",
       "      <td>0</td>\n",
       "      <td>...</td>\n",
       "      <td>1</td>\n",
       "      <td>0</td>\n",
       "      <td>-8.805646</td>\n",
       "      <td>115.113378</td>\n",
       "      <td>15.6035</td>\n",
       "      <td>81</td>\n",
       "      <td>4</td>\n",
       "      <td>0.458603</td>\n",
       "      <td>4.0</td>\n",
       "      <td>5911197.97</td>\n",
       "    </tr>\n",
       "    <tr>\n",
       "      <th>2</th>\n",
       "      <td>1</td>\n",
       "      <td>2</td>\n",
       "      <td>1</td>\n",
       "      <td>2</td>\n",
       "      <td>1</td>\n",
       "      <td>0</td>\n",
       "      <td>0</td>\n",
       "      <td>0</td>\n",
       "      <td>1</td>\n",
       "      <td>0</td>\n",
       "      <td>...</td>\n",
       "      <td>1</td>\n",
       "      <td>0</td>\n",
       "      <td>-8.805646</td>\n",
       "      <td>115.113378</td>\n",
       "      <td>15.6035</td>\n",
       "      <td>81</td>\n",
       "      <td>4</td>\n",
       "      <td>0.455450</td>\n",
       "      <td>4.0</td>\n",
       "      <td>5911197.97</td>\n",
       "    </tr>\n",
       "    <tr>\n",
       "      <th>3</th>\n",
       "      <td>1</td>\n",
       "      <td>2</td>\n",
       "      <td>1</td>\n",
       "      <td>2</td>\n",
       "      <td>1</td>\n",
       "      <td>0</td>\n",
       "      <td>0</td>\n",
       "      <td>0</td>\n",
       "      <td>1</td>\n",
       "      <td>0</td>\n",
       "      <td>...</td>\n",
       "      <td>1</td>\n",
       "      <td>0</td>\n",
       "      <td>-8.805646</td>\n",
       "      <td>115.113378</td>\n",
       "      <td>15.6035</td>\n",
       "      <td>81</td>\n",
       "      <td>4</td>\n",
       "      <td>0.455450</td>\n",
       "      <td>4.0</td>\n",
       "      <td>5911197.97</td>\n",
       "    </tr>\n",
       "    <tr>\n",
       "      <th>4</th>\n",
       "      <td>1</td>\n",
       "      <td>3</td>\n",
       "      <td>1</td>\n",
       "      <td>2</td>\n",
       "      <td>1</td>\n",
       "      <td>0</td>\n",
       "      <td>0</td>\n",
       "      <td>0</td>\n",
       "      <td>1</td>\n",
       "      <td>0</td>\n",
       "      <td>...</td>\n",
       "      <td>1</td>\n",
       "      <td>0</td>\n",
       "      <td>-8.805646</td>\n",
       "      <td>115.113378</td>\n",
       "      <td>15.6035</td>\n",
       "      <td>81</td>\n",
       "      <td>4</td>\n",
       "      <td>0.452298</td>\n",
       "      <td>4.0</td>\n",
       "      <td>5911197.97</td>\n",
       "    </tr>\n",
       "  </tbody>\n",
       "</table>\n",
       "<p>5 rows × 36 columns</p>\n",
       "</div>"
      ],
      "text/plain": [
       "   bedroom  bathroom  beds  guests  wifi  tv  cable_tv  ac  workspace  \\\n",
       "0        1         1     1       2     1   0         0   1          1   \n",
       "1        1         1     1       2     1   0         0   1          1   \n",
       "2        1         2     1       2     1   0         0   0          1   \n",
       "3        1         2     1       2     1   0         0   0          1   \n",
       "4        1         3     1       2     1   0         0   0          1   \n",
       "\n",
       "   hot_water  ...  beachfront  building_staff       lat         lng  \\\n",
       "0          1  ...           1               0 -8.805646  115.113378   \n",
       "1          0  ...           1               0 -8.805646  115.113378   \n",
       "2          0  ...           1               0 -8.805646  115.113378   \n",
       "3          0  ...           1               0 -8.805646  115.113378   \n",
       "4          0  ...           1               0 -8.805646  115.113378   \n",
       "\n",
       "   distance_to_coastline  booking_window  stay_duration_in_days  \\\n",
       "0                15.6035              81                      4   \n",
       "1                15.6035              81                      4   \n",
       "2                15.6035              81                      4   \n",
       "3                15.6035              81                      4   \n",
       "4                15.6035              81                      4   \n",
       "\n",
       "   review_sentiment_score  rating  booking_earned  \n",
       "0                0.458603     4.0      5911197.97  \n",
       "1                0.458603     4.0      5911197.97  \n",
       "2                0.455450     4.0      5911197.97  \n",
       "3                0.455450     4.0      5911197.97  \n",
       "4                0.452298     4.0      5911197.97  \n",
       "\n",
       "[5 rows x 36 columns]"
      ]
     },
     "execution_count": 3,
     "metadata": {},
     "output_type": "execute_result"
    }
   ],
   "source": [
    "df = pd.read_csv(data_path)\n",
    "df.head()"
   ]
  },
  {
   "cell_type": "code",
   "execution_count": 4,
   "metadata": {},
   "outputs": [],
   "source": [
    "# Separate features and target variable\n",
    "selected_features = ['stay_duration_in_days', 'booking_window', 'distance_to_coastline', 'lat', \n",
    "                     'bedroom', 'review_sentiment_score', 'beds', 'lng']\n",
    "\n",
    "X = df[selected_features]\n",
    "y = df['booking_earned']"
   ]
  },
  {
   "cell_type": "code",
   "execution_count": 5,
   "metadata": {},
   "outputs": [],
   "source": [
    "from sklearn.model_selection import train_test_split\n",
    "\n",
    "X_train, X_test, y_train, y_test = train_test_split(X, y, test_size=0.2, random_state=42)"
   ]
  },
  {
   "cell_type": "code",
   "execution_count": 6,
   "metadata": {},
   "outputs": [],
   "source": [
    "from sklearn.preprocessing import StandardScaler\n",
    "\n",
    "# Standardize features\n",
    "scaler = StandardScaler()\n",
    "X_train_scaled = scaler.fit_transform(X_train)\n",
    "X_test_scaled = scaler.transform(X_test)"
   ]
  },
  {
   "cell_type": "code",
   "execution_count": 7,
   "metadata": {},
   "outputs": [],
   "source": [
    "def ann_model():\n",
    "    # DO NOT CHANGE THIS CODE\n",
    "    X = X_train_scaled\n",
    "    Y = y_train\n",
    "\n",
    "    # YOUR CODE HERE\n",
    "    model = tf.keras.Sequential([\n",
    "        tf.keras.layers.Dense(1, activation='relu', input_shape=(X_train_scaled.shape[1],)),\n",
    "        # tf.keras.layers.Dense(32, activation='relu'),\n",
    "        # tf.keras.layers.Dense(16, activation='relu'),\n",
    "        # tf.keras.layers.Dropout(0.2),\n",
    "        tf.keras.layers.Dense(1)\n",
    "    ])\n",
    "\n",
    "    model.compile(optimizer=tf.keras.optimizers.Adam(learning_rate=0.01), \n",
    "                  loss=tf.keras.losses.MeanAbsoluteError(),\n",
    "                  metrics=[tf.keras.metrics.MeanAbsoluteError()])\n",
    "\n",
    "    model.fit(X_train_scaled, \n",
    "              y_train, \n",
    "              epochs=1)\n",
    "\n",
    "    mae = model.evaluate(X, Y, verbose=0)\n",
    "    print(f\"Mean Absolute Error: {mae}\")\n",
    "    \n",
    "    return model\n"
   ]
  },
  {
   "cell_type": "code",
   "execution_count": 8,
   "metadata": {},
   "outputs": [
    {
     "name": "stderr",
     "output_type": "stream",
     "text": [
      "/Library/Frameworks/Python.framework/Versions/3.11/lib/python3.11/site-packages/keras/src/layers/core/dense.py:87: UserWarning: Do not pass an `input_shape`/`input_dim` argument to a layer. When using Sequential models, prefer using an `Input(shape)` object as the first layer in the model instead.\n",
      "  super().__init__(activity_regularizer=activity_regularizer, **kwargs)\n"
     ]
    },
    {
     "name": "stdout",
     "output_type": "stream",
     "text": [
      "\u001b[1m1269/1269\u001b[0m \u001b[32m━━━━━━━━━━━━━━━━━━━━\u001b[0m\u001b[37m\u001b[0m \u001b[1m3s\u001b[0m 2ms/step - loss: 2075057.8750 - mean_absolute_error: 2075057.8750\n"
     ]
    },
    {
     "name": "stderr",
     "output_type": "stream",
     "text": [
      "WARNING:absl:You are saving your model as an HDF5 file via `model.save()` or `keras.saving.save_model(model)`. This file format is considered legacy. We recommend using instead the native Keras format, e.g. `model.save('my_model.keras')` or `keras.saving.save_model(model, 'my_model.keras')`. \n"
     ]
    },
    {
     "name": "stdout",
     "output_type": "stream",
     "text": [
      "Mean Absolute Error: [2070869.25, 2070869.25]\n"
     ]
    }
   ],
   "source": [
    "if __name__ == '__main__':\n",
    "    # DO NOT CHANGE THIS CODE\n",
    "    model = ann_model()\n",
    "    model.save(\"ann_model.h5\")"
   ]
  },
  {
   "cell_type": "markdown",
   "metadata": {},
   "source": [
    "# Contoh Penggunaan"
   ]
  },
  {
   "cell_type": "markdown",
   "metadata": {},
   "source": [
    "1. stay_duration_in_days: didapet dari tanggal check in - tanggal saat ini (int)\n",
    "2. booking_window: didapet dari tanggal check out - check in (int)\n",
    "3. distance_to_coastline: nilainya float 0-1\n",
    "4. lat: nilainya float 0-1\n",
    "5. bedroom: jumlah kamar tidur (int)\n",
    "6. review_sentiment_score: nilainya float 0-1\n",
    "7. beds: jumlah kasur (int)\n",
    "8. lng: nilainya float 0-1"
   ]
  },
  {
   "cell_type": "code",
   "execution_count": 9,
   "metadata": {},
   "outputs": [
    {
     "name": "stderr",
     "output_type": "stream",
     "text": [
      "WARNING:absl:Compiled the loaded model, but the compiled metrics have yet to be built. `model.compile_metrics` will be empty until you train or evaluate the model.\n"
     ]
    },
    {
     "name": "stdout",
     "output_type": "stream",
     "text": [
      "\u001b[1m1/1\u001b[0m \u001b[32m━━━━━━━━━━━━━━━━━━━━\u001b[0m\u001b[37m\u001b[0m \u001b[1m0s\u001b[0m 64ms/step\n",
      "Predictions: [[12.690055]]\n"
     ]
    }
   ],
   "source": [
    "import numpy as np\n",
    "import tensorflow as tf\n",
    "\n",
    "# Assuming you have your input data in the form of a list of lists or a numpy array\n",
    "input_data = np.array([[1, 2, 1, 1, 1, 0.2, 1, 0.3]])\n",
    "\n",
    "# Load the model\n",
    "loaded_model = tf.keras.models.load_model('ann_model.h5')\n",
    "\n",
    "# Make predictions\n",
    "predictions = loaded_model.predict(input_data)\n",
    "\n",
    "print(\"Predictions:\", predictions)\n"
   ]
  }
 ],
 "metadata": {
  "kernelspec": {
   "display_name": "Python 3",
   "language": "python",
   "name": "python3"
  },
  "language_info": {
   "codemirror_mode": {
    "name": "ipython",
    "version": 3
   },
   "file_extension": ".py",
   "mimetype": "text/x-python",
   "name": "python",
   "nbconvert_exporter": "python",
   "pygments_lexer": "ipython3",
   "version": "3.11.2"
  }
 },
 "nbformat": 4,
 "nbformat_minor": 2
}
