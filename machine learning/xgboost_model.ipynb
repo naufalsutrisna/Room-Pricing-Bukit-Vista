{
 "cells": [
  {
   "cell_type": "markdown",
   "metadata": {},
   "source": [
    "## Import Library"
   ]
  },
  {
   "cell_type": "code",
   "execution_count": 73,
   "metadata": {},
   "outputs": [],
   "source": [
    "import numpy as np\n",
    "import pandas as pd\n",
    "import matplotlib.pyplot as plt\n",
    "from sklearn.preprocessing import StandardScaler\n",
    "from sklearn.model_selection import train_test_split, GridSearchCV, KFold, cross_val_score\n",
    "from sklearn.metrics import mean_absolute_error, make_scorer\n",
    "from xgboost import XGBRegressor\n",
    "import os"
   ]
  },
  {
   "cell_type": "markdown",
   "metadata": {},
   "source": [
    "## Import Data"
   ]
  },
  {
   "cell_type": "markdown",
   "metadata": {},
   "source": [
    "### Define the path"
   ]
  },
  {
   "cell_type": "code",
   "execution_count": 61,
   "metadata": {},
   "outputs": [],
   "source": [
    "data_path = os.path.join(os.getcwd(), '..', '..', 'data', 'preprocessed_data.csv')"
   ]
  },
  {
   "cell_type": "markdown",
   "metadata": {},
   "source": [
    "### Read the csv"
   ]
  },
  {
   "cell_type": "code",
   "execution_count": 62,
   "metadata": {},
   "outputs": [
    {
     "data": {
      "text/html": [
       "<div>\n",
       "<style scoped>\n",
       "    .dataframe tbody tr th:only-of-type {\n",
       "        vertical-align: middle;\n",
       "    }\n",
       "\n",
       "    .dataframe tbody tr th {\n",
       "        vertical-align: top;\n",
       "    }\n",
       "\n",
       "    .dataframe thead th {\n",
       "        text-align: right;\n",
       "    }\n",
       "</style>\n",
       "<table border=\"1\" class=\"dataframe\">\n",
       "  <thead>\n",
       "    <tr style=\"text-align: right;\">\n",
       "      <th></th>\n",
       "      <th>bedroom</th>\n",
       "      <th>bathroom</th>\n",
       "      <th>beds</th>\n",
       "      <th>guests</th>\n",
       "      <th>wifi</th>\n",
       "      <th>tv</th>\n",
       "      <th>cable_tv</th>\n",
       "      <th>ac</th>\n",
       "      <th>workspace</th>\n",
       "      <th>hot_water</th>\n",
       "      <th>...</th>\n",
       "      <th>beachfront</th>\n",
       "      <th>building_staff</th>\n",
       "      <th>lat</th>\n",
       "      <th>lng</th>\n",
       "      <th>distance_to_coastline</th>\n",
       "      <th>booking_window</th>\n",
       "      <th>stay_duration_in_days</th>\n",
       "      <th>review_sentiment_score</th>\n",
       "      <th>rating</th>\n",
       "      <th>booking_earned</th>\n",
       "    </tr>\n",
       "  </thead>\n",
       "  <tbody>\n",
       "    <tr>\n",
       "      <th>0</th>\n",
       "      <td>1</td>\n",
       "      <td>1</td>\n",
       "      <td>1</td>\n",
       "      <td>2</td>\n",
       "      <td>1</td>\n",
       "      <td>0</td>\n",
       "      <td>0</td>\n",
       "      <td>1</td>\n",
       "      <td>1</td>\n",
       "      <td>1</td>\n",
       "      <td>...</td>\n",
       "      <td>1</td>\n",
       "      <td>0</td>\n",
       "      <td>-8.805646</td>\n",
       "      <td>115.113378</td>\n",
       "      <td>15.6035</td>\n",
       "      <td>81</td>\n",
       "      <td>4</td>\n",
       "      <td>0.458603</td>\n",
       "      <td>4.0</td>\n",
       "      <td>5911197.97</td>\n",
       "    </tr>\n",
       "    <tr>\n",
       "      <th>1</th>\n",
       "      <td>1</td>\n",
       "      <td>1</td>\n",
       "      <td>1</td>\n",
       "      <td>2</td>\n",
       "      <td>1</td>\n",
       "      <td>0</td>\n",
       "      <td>0</td>\n",
       "      <td>1</td>\n",
       "      <td>1</td>\n",
       "      <td>0</td>\n",
       "      <td>...</td>\n",
       "      <td>1</td>\n",
       "      <td>0</td>\n",
       "      <td>-8.805646</td>\n",
       "      <td>115.113378</td>\n",
       "      <td>15.6035</td>\n",
       "      <td>81</td>\n",
       "      <td>4</td>\n",
       "      <td>0.458603</td>\n",
       "      <td>4.0</td>\n",
       "      <td>5911197.97</td>\n",
       "    </tr>\n",
       "    <tr>\n",
       "      <th>2</th>\n",
       "      <td>1</td>\n",
       "      <td>2</td>\n",
       "      <td>1</td>\n",
       "      <td>2</td>\n",
       "      <td>1</td>\n",
       "      <td>0</td>\n",
       "      <td>0</td>\n",
       "      <td>0</td>\n",
       "      <td>1</td>\n",
       "      <td>0</td>\n",
       "      <td>...</td>\n",
       "      <td>1</td>\n",
       "      <td>0</td>\n",
       "      <td>-8.805646</td>\n",
       "      <td>115.113378</td>\n",
       "      <td>15.6035</td>\n",
       "      <td>81</td>\n",
       "      <td>4</td>\n",
       "      <td>0.455450</td>\n",
       "      <td>4.0</td>\n",
       "      <td>5911197.97</td>\n",
       "    </tr>\n",
       "    <tr>\n",
       "      <th>3</th>\n",
       "      <td>1</td>\n",
       "      <td>2</td>\n",
       "      <td>1</td>\n",
       "      <td>2</td>\n",
       "      <td>1</td>\n",
       "      <td>0</td>\n",
       "      <td>0</td>\n",
       "      <td>0</td>\n",
       "      <td>1</td>\n",
       "      <td>0</td>\n",
       "      <td>...</td>\n",
       "      <td>1</td>\n",
       "      <td>0</td>\n",
       "      <td>-8.805646</td>\n",
       "      <td>115.113378</td>\n",
       "      <td>15.6035</td>\n",
       "      <td>81</td>\n",
       "      <td>4</td>\n",
       "      <td>0.455450</td>\n",
       "      <td>4.0</td>\n",
       "      <td>5911197.97</td>\n",
       "    </tr>\n",
       "    <tr>\n",
       "      <th>4</th>\n",
       "      <td>1</td>\n",
       "      <td>3</td>\n",
       "      <td>1</td>\n",
       "      <td>2</td>\n",
       "      <td>1</td>\n",
       "      <td>0</td>\n",
       "      <td>0</td>\n",
       "      <td>0</td>\n",
       "      <td>1</td>\n",
       "      <td>0</td>\n",
       "      <td>...</td>\n",
       "      <td>1</td>\n",
       "      <td>0</td>\n",
       "      <td>-8.805646</td>\n",
       "      <td>115.113378</td>\n",
       "      <td>15.6035</td>\n",
       "      <td>81</td>\n",
       "      <td>4</td>\n",
       "      <td>0.452298</td>\n",
       "      <td>4.0</td>\n",
       "      <td>5911197.97</td>\n",
       "    </tr>\n",
       "  </tbody>\n",
       "</table>\n",
       "<p>5 rows × 36 columns</p>\n",
       "</div>"
      ],
      "text/plain": [
       "   bedroom  bathroom  beds  guests  wifi  tv  cable_tv  ac  workspace  \\\n",
       "0        1         1     1       2     1   0         0   1          1   \n",
       "1        1         1     1       2     1   0         0   1          1   \n",
       "2        1         2     1       2     1   0         0   0          1   \n",
       "3        1         2     1       2     1   0         0   0          1   \n",
       "4        1         3     1       2     1   0         0   0          1   \n",
       "\n",
       "   hot_water  ...  beachfront  building_staff       lat         lng  \\\n",
       "0          1  ...           1               0 -8.805646  115.113378   \n",
       "1          0  ...           1               0 -8.805646  115.113378   \n",
       "2          0  ...           1               0 -8.805646  115.113378   \n",
       "3          0  ...           1               0 -8.805646  115.113378   \n",
       "4          0  ...           1               0 -8.805646  115.113378   \n",
       "\n",
       "   distance_to_coastline  booking_window  stay_duration_in_days  \\\n",
       "0                15.6035              81                      4   \n",
       "1                15.6035              81                      4   \n",
       "2                15.6035              81                      4   \n",
       "3                15.6035              81                      4   \n",
       "4                15.6035              81                      4   \n",
       "\n",
       "   review_sentiment_score  rating  booking_earned  \n",
       "0                0.458603     4.0      5911197.97  \n",
       "1                0.458603     4.0      5911197.97  \n",
       "2                0.455450     4.0      5911197.97  \n",
       "3                0.455450     4.0      5911197.97  \n",
       "4                0.452298     4.0      5911197.97  \n",
       "\n",
       "[5 rows x 36 columns]"
      ]
     },
     "execution_count": 62,
     "metadata": {},
     "output_type": "execute_result"
    }
   ],
   "source": [
    "df = pd.read_csv(data_path)\n",
    "df.head()"
   ]
  },
  {
   "cell_type": "markdown",
   "metadata": {},
   "source": [
    "### Separate features and target variable"
   ]
  },
  {
   "cell_type": "code",
   "execution_count": 63,
   "metadata": {},
   "outputs": [],
   "source": [
    "X = df.drop(columns=['booking_earned'])\n",
    "y = df['booking_earned']"
   ]
  },
  {
   "cell_type": "markdown",
   "metadata": {},
   "source": [
    "### Normalize the features"
   ]
  },
  {
   "cell_type": "code",
   "execution_count": 64,
   "metadata": {},
   "outputs": [],
   "source": [
    "scaler = StandardScaler()\n",
    "X_scaled = scaler.fit_transform(X)"
   ]
  },
  {
   "cell_type": "markdown",
   "metadata": {},
   "source": [
    "### Split the normalized data into training and testing sets"
   ]
  },
  {
   "cell_type": "code",
   "execution_count": 65,
   "metadata": {},
   "outputs": [],
   "source": [
    "X_train, X_test, y_train, y_test = train_test_split(X_scaled, y, test_size=0.2, random_state=42)"
   ]
  },
  {
   "cell_type": "markdown",
   "metadata": {},
   "source": [
    "### Create XGBoost Model"
   ]
  },
  {
   "cell_type": "code",
   "execution_count": 66,
   "metadata": {},
   "outputs": [
    {
     "name": "stdout",
     "output_type": "stream",
     "text": [
      "Mean Absolute Error on Training: 18989.633716247128\n",
      "Mean Absolute Error on Testing: 66834.64285103309\n"
     ]
    }
   ],
   "source": [
    "# Initialize the XGBoost model\n",
    "model = XGBRegressor(max_depth=9, n_estimators=1000, random_state=42)\n",
    "\n",
    "# Fit the model on the training data\n",
    "model.fit(X_train, y_train)\n",
    "\n",
    "# Make predictions on the test data\n",
    "y_pred_train = model.predict(X_train)\n",
    "y_pred_test = model.predict(X_test)\n",
    "\n",
    "# Evaluate the model\n",
    "training_mae = mean_absolute_error(y_train, y_pred_train)\n",
    "print(f'Mean Absolute Error on Training: {training_mae}')\n",
    "\n",
    "testing_mae = mean_absolute_error(y_test, y_pred_test)\n",
    "print(f'Mean Absolute Error on Testing: {testing_mae}')"
   ]
  },
  {
   "cell_type": "markdown",
   "metadata": {},
   "source": [
    "### Tuned The Hyperparameter"
   ]
  },
  {
   "cell_type": "code",
   "execution_count": 68,
   "metadata": {},
   "outputs": [
    {
     "name": "stdout",
     "output_type": "stream",
     "text": [
      "Fitting 5 folds for each of 16 candidates, totalling 80 fits\n",
      "[CV] END ...learning_rate=0.2, max_depth=7, n_estimators=100; total time=   1.8s\n",
      "[CV] END ...learning_rate=0.2, max_depth=7, n_estimators=100; total time=   1.8s\n",
      "[CV] END ...learning_rate=0.2, max_depth=7, n_estimators=100; total time=   1.8s\n",
      "[CV] END ...learning_rate=0.2, max_depth=7, n_estimators=100; total time=   1.8s\n",
      "[CV] END ...learning_rate=0.2, max_depth=7, n_estimators=100; total time=   1.6s\n",
      "[CV] END ...learning_rate=0.2, max_depth=8, n_estimators=100; total time=   2.1s\n",
      "[CV] END ...learning_rate=0.2, max_depth=8, n_estimators=100; total time=   2.1s\n",
      "[CV] END ...learning_rate=0.2, max_depth=8, n_estimators=100; total time=   2.1s\n",
      "[CV] END ...learning_rate=0.2, max_depth=8, n_estimators=100; total time=   2.3s\n",
      "[CV] END ...learning_rate=0.2, max_depth=8, n_estimators=100; total time=   2.2s\n",
      "[CV] END ...learning_rate=0.2, max_depth=9, n_estimators=100; total time=   2.6s\n",
      "[CV] END ...learning_rate=0.2, max_depth=9, n_estimators=100; total time=   2.7s\n",
      "[CV] END ...learning_rate=0.2, max_depth=9, n_estimators=100; total time=   2.4s\n",
      "[CV] END ...learning_rate=0.2, max_depth=9, n_estimators=100; total time=   2.7s\n",
      "[CV] END ...learning_rate=0.2, max_depth=9, n_estimators=100; total time=   2.7s\n",
      "[CV] END ..learning_rate=0.2, max_depth=10, n_estimators=100; total time=   4.0s\n",
      "[CV] END ..learning_rate=0.2, max_depth=10, n_estimators=100; total time=   3.8s\n",
      "[CV] END ..learning_rate=0.2, max_depth=10, n_estimators=100; total time=   3.9s\n",
      "[CV] END ..learning_rate=0.2, max_depth=10, n_estimators=100; total time=   3.9s\n",
      "[CV] END ...learning_rate=0.3, max_depth=7, n_estimators=100; total time=   2.1s\n",
      "[CV] END ..learning_rate=0.2, max_depth=10, n_estimators=100; total time=   4.0s\n",
      "[CV] END ...learning_rate=0.3, max_depth=7, n_estimators=100; total time=   1.9s\n",
      "[CV] END ...learning_rate=0.3, max_depth=7, n_estimators=100; total time=   1.9s\n",
      "[CV] END ...learning_rate=0.3, max_depth=7, n_estimators=100; total time=   1.7s\n",
      "[CV] END ...learning_rate=0.3, max_depth=7, n_estimators=100; total time=   1.7s\n",
      "[CV] END ...learning_rate=0.3, max_depth=8, n_estimators=100; total time=   2.1s\n",
      "[CV] END ...learning_rate=0.3, max_depth=8, n_estimators=100; total time=   2.1s\n",
      "[CV] END ...learning_rate=0.3, max_depth=8, n_estimators=100; total time=   2.5s\n",
      "[CV] END ...learning_rate=0.3, max_depth=8, n_estimators=100; total time=   2.5s\n",
      "[CV] END ...learning_rate=0.3, max_depth=8, n_estimators=100; total time=   2.5s\n",
      "[CV] END ...learning_rate=0.3, max_depth=9, n_estimators=100; total time=   2.9s\n",
      "[CV] END ...learning_rate=0.3, max_depth=9, n_estimators=100; total time=   2.6s\n",
      "[CV] END ...learning_rate=0.3, max_depth=9, n_estimators=100; total time=   2.6s\n",
      "[CV] END ...learning_rate=0.3, max_depth=9, n_estimators=100; total time=   2.9s\n",
      "[CV] END ...learning_rate=0.3, max_depth=9, n_estimators=100; total time=   3.5s\n",
      "[CV] END ..learning_rate=0.3, max_depth=10, n_estimators=100; total time=   4.7s\n",
      "[CV] END ..learning_rate=0.3, max_depth=10, n_estimators=100; total time=   4.5s\n",
      "[CV] END ..learning_rate=0.3, max_depth=10, n_estimators=100; total time=   4.7s\n",
      "[CV] END ..learning_rate=0.3, max_depth=10, n_estimators=100; total time=   4.4s\n",
      "[CV] END ...learning_rate=0.4, max_depth=7, n_estimators=100; total time=   2.2s\n",
      "[CV] END ...learning_rate=0.4, max_depth=7, n_estimators=100; total time=   2.2s\n",
      "[CV] END ..learning_rate=0.3, max_depth=10, n_estimators=100; total time=   4.2s\n",
      "[CV] END ...learning_rate=0.4, max_depth=7, n_estimators=100; total time=   2.4s\n",
      "[CV] END ...learning_rate=0.4, max_depth=7, n_estimators=100; total time=   2.3s\n",
      "[CV] END ...learning_rate=0.4, max_depth=7, n_estimators=100; total time=   2.0s\n",
      "[CV] END ...learning_rate=0.4, max_depth=8, n_estimators=100; total time=   2.3s\n",
      "[CV] END ...learning_rate=0.4, max_depth=8, n_estimators=100; total time=   2.2s\n",
      "[CV] END ...learning_rate=0.4, max_depth=8, n_estimators=100; total time=   2.2s\n",
      "[CV] END ...learning_rate=0.4, max_depth=8, n_estimators=100; total time=   2.1s\n",
      "[CV] END ...learning_rate=0.4, max_depth=8, n_estimators=100; total time=   2.1s\n",
      "[CV] END ...learning_rate=0.4, max_depth=9, n_estimators=100; total time=   2.7s\n",
      "[CV] END ...learning_rate=0.4, max_depth=9, n_estimators=100; total time=   2.9s\n",
      "[CV] END ...learning_rate=0.4, max_depth=9, n_estimators=100; total time=   2.8s\n",
      "[CV] END ...learning_rate=0.4, max_depth=9, n_estimators=100; total time=   3.3s\n",
      "[CV] END ...learning_rate=0.4, max_depth=9, n_estimators=100; total time=   3.3s\n",
      "[CV] END ..learning_rate=0.4, max_depth=10, n_estimators=100; total time=   4.6s\n",
      "[CV] END ..learning_rate=0.4, max_depth=10, n_estimators=100; total time=   4.3s\n",
      "[CV] END ..learning_rate=0.4, max_depth=10, n_estimators=100; total time=   4.8s\n",
      "[CV] END ...learning_rate=0.5, max_depth=7, n_estimators=100; total time=   2.5s\n",
      "[CV] END ..learning_rate=0.4, max_depth=10, n_estimators=100; total time=   4.8s\n",
      "[CV] END ...learning_rate=0.5, max_depth=7, n_estimators=100; total time=   1.8s\n",
      "[CV] END ..learning_rate=0.4, max_depth=10, n_estimators=100; total time=   4.2s\n",
      "[CV] END ...learning_rate=0.5, max_depth=7, n_estimators=100; total time=   1.7s\n",
      "[CV] END ...learning_rate=0.5, max_depth=7, n_estimators=100; total time=   1.7s\n",
      "[CV] END ...learning_rate=0.5, max_depth=7, n_estimators=100; total time=   1.6s\n",
      "[CV] END ...learning_rate=0.5, max_depth=8, n_estimators=100; total time=   2.0s\n",
      "[CV] END ...learning_rate=0.5, max_depth=8, n_estimators=100; total time=   2.0s\n",
      "[CV] END ...learning_rate=0.5, max_depth=8, n_estimators=100; total time=   2.1s\n",
      "[CV] END ...learning_rate=0.5, max_depth=8, n_estimators=100; total time=   2.0s\n",
      "[CV] END ...learning_rate=0.5, max_depth=8, n_estimators=100; total time=   2.0s\n",
      "[CV] END ...learning_rate=0.5, max_depth=9, n_estimators=100; total time=   2.5s\n",
      "[CV] END ...learning_rate=0.5, max_depth=9, n_estimators=100; total time=   2.5s\n",
      "[CV] END ...learning_rate=0.5, max_depth=9, n_estimators=100; total time=   2.6s\n",
      "[CV] END ...learning_rate=0.5, max_depth=9, n_estimators=100; total time=   2.5s\n",
      "[CV] END ...learning_rate=0.5, max_depth=9, n_estimators=100; total time=   2.5s\n",
      "[CV] END ..learning_rate=0.5, max_depth=10, n_estimators=100; total time=   3.2s\n",
      "[CV] END ..learning_rate=0.5, max_depth=10, n_estimators=100; total time=   3.3s\n",
      "[CV] END ..learning_rate=0.5, max_depth=10, n_estimators=100; total time=   3.3s\n",
      "[CV] END ..learning_rate=0.5, max_depth=10, n_estimators=100; total time=   3.0s\n",
      "[CV] END ..learning_rate=0.5, max_depth=10, n_estimators=100; total time=   2.4s\n",
      "Best Parameters: {'learning_rate': 0.5, 'max_depth': 10, 'n_estimators': 100}\n",
      "Best Mean Absolute Error: 84639.81122410175\n"
     ]
    }
   ],
   "source": [
    "# Define the model\n",
    "model = XGBRegressor(random_state=42)\n",
    "\n",
    "# Define the parameter grid\n",
    "param_grid = {\n",
    "    'n_estimators': [500, 1000, 2000],\n",
    "    'max_depth': [7, 8, 9, 10]\n",
    "}\n",
    "\n",
    "# Set up the Grid Search\n",
    "grid_search = GridSearchCV(estimator=model, \n",
    "                           param_grid=param_grid, \n",
    "                           scoring='neg_mean_absolute_error', \n",
    "                           cv=5, \n",
    "                           verbose=2, \n",
    "                           n_jobs=-1)\n",
    "\n",
    "# Fit the Grid Search\n",
    "grid_search.fit(X_train, y_train)\n",
    "\n",
    "# Get the best parameters and best score\n",
    "best_params = grid_search.best_params_\n",
    "best_score = grid_search.best_score_\n",
    "\n",
    "print(f'Best Parameters: {best_params}')\n",
    "print(f'Best Mean Absolute Error: {-best_score}')\n"
   ]
  },
  {
   "cell_type": "code",
   "execution_count": 69,
   "metadata": {},
   "outputs": [
    {
     "name": "stdout",
     "output_type": "stream",
     "text": [
      "Fitting 5 folds for each of 4 candidates, totalling 20 fits\n",
      "[CV] END ..learning_rate=0.5, max_depth=10, n_estimators=100; total time=   3.5s\n",
      "[CV] END ..learning_rate=0.5, max_depth=10, n_estimators=100; total time=   3.7s\n",
      "[CV] END ..learning_rate=0.5, max_depth=10, n_estimators=100; total time=   3.7s\n",
      "[CV] END ..learning_rate=0.5, max_depth=10, n_estimators=100; total time=   3.7s\n",
      "[CV] END ..learning_rate=0.5, max_depth=10, n_estimators=100; total time=   3.0s\n",
      "[CV] END .learning_rate=0.5, max_depth=10, n_estimators=1000; total time=  42.4s\n",
      "[CV] END .learning_rate=0.5, max_depth=10, n_estimators=1000; total time=  42.6s\n",
      "[CV] END .learning_rate=0.5, max_depth=10, n_estimators=1000; total time=  43.1s\n",
      "[CV] END .learning_rate=0.5, max_depth=10, n_estimators=1000; total time=  43.6s\n",
      "[CV] END .learning_rate=0.5, max_depth=10, n_estimators=1000; total time=  37.1s\n",
      "[CV] END .learning_rate=0.5, max_depth=10, n_estimators=2000; total time= 1.0min\n",
      "[CV] END .learning_rate=0.5, max_depth=10, n_estimators=2000; total time= 1.0min\n",
      "[CV] END .learning_rate=0.5, max_depth=10, n_estimators=2000; total time= 1.1min\n",
      "[CV] END .learning_rate=0.5, max_depth=10, n_estimators=2000; total time= 1.2min\n",
      "[CV] END .learning_rate=0.5, max_depth=10, n_estimators=2000; total time= 1.2min\n",
      "[CV] END .learning_rate=0.5, max_depth=10, n_estimators=5000; total time= 2.2min\n",
      "[CV] END .learning_rate=0.5, max_depth=10, n_estimators=5000; total time= 2.4min\n",
      "[CV] END .learning_rate=0.5, max_depth=10, n_estimators=5000; total time= 2.7min\n",
      "[CV] END .learning_rate=0.5, max_depth=10, n_estimators=5000; total time= 2.6min\n",
      "[CV] END .learning_rate=0.5, max_depth=10, n_estimators=5000; total time= 1.8min\n",
      "Best Parameters: {'learning_rate': 0.5, 'max_depth': 10, 'n_estimators': 5000}\n",
      "Best Mean Absolute Error: 77310.41030275091\n"
     ]
    }
   ],
   "source": [
    "# Define the model\n",
    "model = XGBRegressor(random_state=42)\n",
    "\n",
    "# Define the parameter grid\n",
    "param_grid = {\n",
    "    'n_estimators': [100, 1000, 2000, 5000],\n",
    "    'learning_rate': [0.5],\n",
    "    'max_depth': [10]\n",
    "}\n",
    "\n",
    "# Set up the Grid Search\n",
    "grid_search = GridSearchCV(estimator=model, \n",
    "                           param_grid=param_grid, \n",
    "                           scoring='neg_mean_absolute_error', \n",
    "                           cv=5, \n",
    "                           verbose=2, \n",
    "                           n_jobs=-1)\n",
    "\n",
    "# Fit the Grid Search\n",
    "grid_search.fit(X_train, y_train)\n",
    "\n",
    "# Get the best parameters and best score\n",
    "best_params = grid_search.best_params_\n",
    "best_score = grid_search.best_score_\n",
    "\n",
    "print(f'Best Parameters: {best_params}')\n",
    "print(f'Best Mean Absolute Error: {-best_score}')"
   ]
  },
  {
   "cell_type": "markdown",
   "metadata": {},
   "source": [
    "### Cross Validation"
   ]
  },
  {
   "cell_type": "code",
   "execution_count": 74,
   "metadata": {},
   "outputs": [
    {
     "name": "stdout",
     "output_type": "stream",
     "text": [
      "Cross-Validation MAE Scores: [65906.12252101 90985.81628196 71786.27727205 78295.26142383\n",
      " 81218.19406268]\n",
      "Mean Cross-Validation MAE: 77638.33431230616\n",
      "Mean Absolute Error on Testing: 68728.40530740535\n"
     ]
    }
   ],
   "source": [
    "# Define your XGBoost model\n",
    "model = XGBRegressor(learning_rate=0.5, max_depth=10, n_estimators=5000, random_state=42)\n",
    "\n",
    "# Define the k-fold cross-validation scheme\n",
    "kf = KFold(n_splits=5, shuffle=True, random_state=42)\n",
    "\n",
    "# Define the scoring function\n",
    "scorer = make_scorer(mean_absolute_error, greater_is_better=False)\n",
    "\n",
    "# Perform cross-validation and get scores\n",
    "cv_scores = cross_val_score(model, X_train, y_train, cv=kf, scoring=scorer)\n",
    "\n",
    "# Convert negative MAE to positive since we used greater_is_better=False\n",
    "cv_scores = -cv_scores\n",
    "\n",
    "# Print the cross-validation scores and their mean\n",
    "print(f'Cross-Validation MAE Scores: {cv_scores}')\n",
    "print(f'Mean Cross-Validation MAE: {np.mean(cv_scores)}')\n",
    "\n",
    "# Fit the model on the entire training data\n",
    "model.fit(X_train, y_train)\n",
    "\n",
    "# Make predictions on the test data\n",
    "y_pred_test = model.predict(X_test)\n",
    "\n",
    "# Evaluate the model on the test data\n",
    "testing_mae = mean_absolute_error(y_test, y_pred_test)\n",
    "print(f'Mean Absolute Error on Testing: {testing_mae}')"
   ]
  },
  {
   "cell_type": "markdown",
   "metadata": {},
   "source": [
    "### Feature Important"
   ]
  },
  {
   "cell_type": "code",
   "execution_count": 75,
   "metadata": {},
   "outputs": [
    {
     "data": {
      "image/png": "[encoded data removed]",
      "text/plain": [
       "<Figure size 1000x600 with 1 Axes>"
      ]
     },
     "metadata": {},
     "output_type": "display_data"
    },
    {
     "name": "stdout",
     "output_type": "stream",
     "text": [
      "Mean Absolute Error: 68728.40530740535\n"
     ]
    }
   ],
   "source": [
    "import matplotlib.pyplot as plt\n",
    "\n",
    "# Initialize a new XGBoost model with the best hyperparameters\n",
    "best_model = XGBRegressor(learning_rate=0.5, max_depth=10, n_estimators=5000, random_state=42)\n",
    "\n",
    "# Train the model on the entire training dataset with the best hyperparameters\n",
    "best_model.fit(X_train, y_train)\n",
    "\n",
    "# Get feature importances from the best model\n",
    "feature_importances = best_model.feature_importances_\n",
    "\n",
    "# Create a DataFrame to store feature importances with corresponding column names\n",
    "fi_df = pd.DataFrame({'Feature': X.columns, 'Importance': feature_importances})\n",
    "\n",
    "# Sort the DataFrame by feature importance values\n",
    "fi_df = fi_df.sort_values(by='Importance', ascending=True)\n",
    "\n",
    "# Plot feature importances\n",
    "plt.figure(figsize=(10, 6))\n",
    "plt.barh(fi_df['Feature'], fi_df['Importance'])\n",
    "plt.xlabel('Feature Importance')\n",
    "plt.ylabel('Feature')\n",
    "plt.title('Feature Importance Plot')\n",
    "plt.show()\n",
    "\n",
    "# Make predictions on the test set using the best model\n",
    "y_pred = best_model.predict(X_test)\n",
    "\n",
    "# Calculate Mean Absolute Error (MAE)\n",
    "mae = mean_absolute_error(y_test, y_pred)\n",
    "print(\"Mean Absolute Error:\", mae)"
   ]
  },
  {
   "cell_type": "markdown",
   "metadata": {},
   "source": [
    "### Predict with Feature Important "
   ]
  },
  {
   "cell_type": "code",
   "execution_count": 76,
   "metadata": {},
   "outputs": [],
   "source": [
    "important_column = ['stay_duration_in_days', 'bedroom', 'lat', 'lng', \n",
    "                    'hanger', 'guests', 'distance_to_coastline', 'bathroom',\n",
    "                    'breakfast', 'booking_window', 'pool', 'parking']\n",
    "\n",
    "X_important = df[important_column]\n",
    "y_important = df['booking_earned']"
   ]
  },
  {
   "cell_type": "code",
   "execution_count": 77,
   "metadata": {},
   "outputs": [],
   "source": [
    "scaler = StandardScaler()\n",
    "X_important_scaled = scaler.fit_transform(X_important)"
   ]
  },
  {
   "cell_type": "code",
   "execution_count": 78,
   "metadata": {},
   "outputs": [],
   "source": [
    "X_important_train, X_important_test, y_important_train, y_important_test = train_test_split(X_important_scaled, y_important, test_size=0.2, random_state=42)"
   ]
  },
  {
   "cell_type": "code",
   "execution_count": 80,
   "metadata": {},
   "outputs": [
    {
     "name": "stdout",
     "output_type": "stream",
     "text": [
      "Mean Absolute Error on Training: 86421.91422589438\n",
      "Mean Absolute Error on Testing: 127639.71347742708\n"
     ]
    }
   ],
   "source": [
    "# Initialize the XGBoost model\n",
    "model = XGBRegressor(learning_rate=0.5, max_depth=10, n_estimators=5000, random_state=42)\n",
    "\n",
    "# Fit the model on the training data\n",
    "model.fit(X_important_train, y_important_train)\n",
    "\n",
    "# Make predictions on the test data\n",
    "y_pred_important_train = model.predict(X_important_train)\n",
    "y_pred_important_test = model.predict(X_important_test)\n",
    "\n",
    "# Evaluate the model\n",
    "training_important_mae = mean_absolute_error(y_important_train, y_pred_important_train)\n",
    "print(f'Mean Absolute Error on Training: {training_important_mae}')\n",
    "\n",
    "testing_important_mae = mean_absolute_error(y_important_test, y_pred_important_test)\n",
    "print(f'Mean Absolute Error on Testing: {testing_important_mae}')"
   ]
  }
 ],
 "metadata": {
  "kernelspec": {
   "display_name": "Python 3",
   "language": "python",
   "name": "python3"
  },
  "language_info": {
   "codemirror_mode": {
    "name": "ipython",
    "version": 3
   },
   "file_extension": ".py",
   "mimetype": "text/x-python",
   "name": "python",
   "nbconvert_exporter": "python",
   "pygments_lexer": "ipython3",
   "version": "3.11.2"
  }
 },
 "nbformat": 4,
 "nbformat_minor": 2
}
