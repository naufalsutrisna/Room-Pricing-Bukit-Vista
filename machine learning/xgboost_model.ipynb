{
 "cells": [
  {
   "cell_type": "markdown",
   "metadata": {},
   "source": [
    "## Import Library"
   ]
  },
  {
   "cell_type": "code",
   "execution_count": 132,
   "metadata": {},
   "outputs": [],
   "source": [
    "import numpy as np\n",
    "import pandas as pd\n",
    "import matplotlib.pyplot as plt\n",
    "from sklearn.model_selection import train_test_split, GridSearchCV, KFold, cross_val_score\n",
    "from sklearn.metrics import mean_absolute_error, make_scorer\n",
    "from xgboost import XGBRegressor\n",
    "import os"
   ]
  },
  {
   "cell_type": "markdown",
   "metadata": {},
   "source": [
    "## Import Data"
   ]
  },
  {
   "cell_type": "markdown",
   "metadata": {},
   "source": [
    "### Define the path"
   ]
  },
  {
   "cell_type": "code",
   "execution_count": 133,
   "metadata": {},
   "outputs": [],
   "source": [
    "data_path = os.path.join(os.getcwd(), '..', '..', 'data', 'preprocessed_data.csv')"
   ]
  },
  {
   "cell_type": "markdown",
   "metadata": {},
   "source": [
    "### Read the csv"
   ]
  },
  {
   "cell_type": "code",
   "execution_count": 134,
   "metadata": {},
   "outputs": [
    {
     "data": {
      "text/html": [
       "<div>\n",
       "<style scoped>\n",
       "    .dataframe tbody tr th:only-of-type {\n",
       "        vertical-align: middle;\n",
       "    }\n",
       "\n",
       "    .dataframe tbody tr th {\n",
       "        vertical-align: top;\n",
       "    }\n",
       "\n",
       "    .dataframe thead th {\n",
       "        text-align: right;\n",
       "    }\n",
       "</style>\n",
       "<table border=\"1\" class=\"dataframe\">\n",
       "  <thead>\n",
       "    <tr style=\"text-align: right;\">\n",
       "      <th></th>\n",
       "      <th>property_name</th>\n",
       "      <th>room_id</th>\n",
       "      <th>bedroom</th>\n",
       "      <th>bathroom</th>\n",
       "      <th>beds</th>\n",
       "      <th>guests</th>\n",
       "      <th>wifi</th>\n",
       "      <th>tv</th>\n",
       "      <th>cable_tv</th>\n",
       "      <th>ac</th>\n",
       "      <th>...</th>\n",
       "      <th>beachfront</th>\n",
       "      <th>building_staff</th>\n",
       "      <th>lat</th>\n",
       "      <th>lng</th>\n",
       "      <th>booking_window</th>\n",
       "      <th>stay_duration_in_days</th>\n",
       "      <th>avg_rating</th>\n",
       "      <th>avg_review_sentiment_score</th>\n",
       "      <th>rating_count</th>\n",
       "      <th>average_daily_rate</th>\n",
       "    </tr>\n",
       "  </thead>\n",
       "  <tbody>\n",
       "    <tr>\n",
       "      <th>0</th>\n",
       "      <td>Bingin Ombak</td>\n",
       "      <td>431874</td>\n",
       "      <td>1</td>\n",
       "      <td>1</td>\n",
       "      <td>1</td>\n",
       "      <td>2</td>\n",
       "      <td>1</td>\n",
       "      <td>0</td>\n",
       "      <td>0</td>\n",
       "      <td>1</td>\n",
       "      <td>...</td>\n",
       "      <td>1</td>\n",
       "      <td>0</td>\n",
       "      <td>-8.805646</td>\n",
       "      <td>115.113378</td>\n",
       "      <td>81</td>\n",
       "      <td>4</td>\n",
       "      <td>4.3158</td>\n",
       "      <td>0.565051</td>\n",
       "      <td>19</td>\n",
       "      <td>1.477799e+06</td>\n",
       "    </tr>\n",
       "    <tr>\n",
       "      <th>1</th>\n",
       "      <td>Bingin Ombak</td>\n",
       "      <td>431875</td>\n",
       "      <td>1</td>\n",
       "      <td>1</td>\n",
       "      <td>1</td>\n",
       "      <td>2</td>\n",
       "      <td>1</td>\n",
       "      <td>0</td>\n",
       "      <td>0</td>\n",
       "      <td>1</td>\n",
       "      <td>...</td>\n",
       "      <td>1</td>\n",
       "      <td>0</td>\n",
       "      <td>-8.805646</td>\n",
       "      <td>115.113378</td>\n",
       "      <td>81</td>\n",
       "      <td>4</td>\n",
       "      <td>4.0857</td>\n",
       "      <td>0.518720</td>\n",
       "      <td>35</td>\n",
       "      <td>1.477799e+06</td>\n",
       "    </tr>\n",
       "    <tr>\n",
       "      <th>2</th>\n",
       "      <td>Bingin Ombak</td>\n",
       "      <td>396658</td>\n",
       "      <td>1</td>\n",
       "      <td>1</td>\n",
       "      <td>1</td>\n",
       "      <td>2</td>\n",
       "      <td>1</td>\n",
       "      <td>0</td>\n",
       "      <td>0</td>\n",
       "      <td>1</td>\n",
       "      <td>...</td>\n",
       "      <td>1</td>\n",
       "      <td>0</td>\n",
       "      <td>-8.805646</td>\n",
       "      <td>115.113378</td>\n",
       "      <td>81</td>\n",
       "      <td>4</td>\n",
       "      <td>4.0857</td>\n",
       "      <td>0.518720</td>\n",
       "      <td>35</td>\n",
       "      <td>1.477799e+06</td>\n",
       "    </tr>\n",
       "    <tr>\n",
       "      <th>3</th>\n",
       "      <td>Bingin Ombak</td>\n",
       "      <td>396427</td>\n",
       "      <td>1</td>\n",
       "      <td>2</td>\n",
       "      <td>1</td>\n",
       "      <td>2</td>\n",
       "      <td>1</td>\n",
       "      <td>0</td>\n",
       "      <td>0</td>\n",
       "      <td>0</td>\n",
       "      <td>...</td>\n",
       "      <td>1</td>\n",
       "      <td>0</td>\n",
       "      <td>-8.805646</td>\n",
       "      <td>115.113378</td>\n",
       "      <td>81</td>\n",
       "      <td>4</td>\n",
       "      <td>4.5342</td>\n",
       "      <td>0.678392</td>\n",
       "      <td>164</td>\n",
       "      <td>1.477799e+06</td>\n",
       "    </tr>\n",
       "    <tr>\n",
       "      <th>4</th>\n",
       "      <td>Bingin Ombak</td>\n",
       "      <td>396427</td>\n",
       "      <td>1</td>\n",
       "      <td>2</td>\n",
       "      <td>1</td>\n",
       "      <td>2</td>\n",
       "      <td>1</td>\n",
       "      <td>0</td>\n",
       "      <td>0</td>\n",
       "      <td>0</td>\n",
       "      <td>...</td>\n",
       "      <td>1</td>\n",
       "      <td>0</td>\n",
       "      <td>-8.805646</td>\n",
       "      <td>115.113378</td>\n",
       "      <td>81</td>\n",
       "      <td>4</td>\n",
       "      <td>4.5342</td>\n",
       "      <td>0.678392</td>\n",
       "      <td>164</td>\n",
       "      <td>1.477799e+06</td>\n",
       "    </tr>\n",
       "  </tbody>\n",
       "</table>\n",
       "<p>5 rows × 38 columns</p>\n",
       "</div>"
      ],
      "text/plain": [
       "  property_name  room_id  bedroom  bathroom  beds  guests  wifi  tv  cable_tv  \\\n",
       "0  Bingin Ombak   431874        1         1     1       2     1   0         0   \n",
       "1  Bingin Ombak   431875        1         1     1       2     1   0         0   \n",
       "2  Bingin Ombak   396658        1         1     1       2     1   0         0   \n",
       "3  Bingin Ombak   396427        1         2     1       2     1   0         0   \n",
       "4  Bingin Ombak   396427        1         2     1       2     1   0         0   \n",
       "\n",
       "   ac  ...  beachfront  building_staff       lat         lng  booking_window  \\\n",
       "0   1  ...           1               0 -8.805646  115.113378              81   \n",
       "1   1  ...           1               0 -8.805646  115.113378              81   \n",
       "2   1  ...           1               0 -8.805646  115.113378              81   \n",
       "3   0  ...           1               0 -8.805646  115.113378              81   \n",
       "4   0  ...           1               0 -8.805646  115.113378              81   \n",
       "\n",
       "   stay_duration_in_days  avg_rating  avg_review_sentiment_score  \\\n",
       "0                      4      4.3158                    0.565051   \n",
       "1                      4      4.0857                    0.518720   \n",
       "2                      4      4.0857                    0.518720   \n",
       "3                      4      4.5342                    0.678392   \n",
       "4                      4      4.5342                    0.678392   \n",
       "\n",
       "   rating_count  average_daily_rate  \n",
       "0            19        1.477799e+06  \n",
       "1            35        1.477799e+06  \n",
       "2            35        1.477799e+06  \n",
       "3           164        1.477799e+06  \n",
       "4           164        1.477799e+06  \n",
       "\n",
       "[5 rows x 38 columns]"
      ]
     },
     "execution_count": 134,
     "metadata": {},
     "output_type": "execute_result"
    }
   ],
   "source": [
    "df = pd.read_csv(data_path)\n",
    "df.head()"
   ]
  },
  {
   "cell_type": "markdown",
   "metadata": {},
   "source": [
    "### Separate features and target variable"
   ]
  },
  {
   "cell_type": "code",
   "execution_count": 135,
   "metadata": {},
   "outputs": [],
   "source": [
    "X = df.drop(columns=['property_name', 'room_id', 'average_daily_rate'])\n",
    "y = df['average_daily_rate']"
   ]
  },
  {
   "cell_type": "markdown",
   "metadata": {},
   "source": [
    "### Split the normalized data into training and testing sets"
   ]
  },
  {
   "cell_type": "code",
   "execution_count": 136,
   "metadata": {},
   "outputs": [],
   "source": [
    "X_train, X_test, y_train, y_test = train_test_split(X, y, test_size=0.2, random_state=42)"
   ]
  },
  {
   "cell_type": "markdown",
   "metadata": {},
   "source": [
    "### Create XGBoost Model"
   ]
  },
  {
   "cell_type": "code",
   "execution_count": 137,
   "metadata": {},
   "outputs": [
    {
     "name": "stdout",
     "output_type": "stream",
     "text": [
      "Mean Absolute Error on Training: 95612.43582210102\n",
      "Mean Absolute Error on Testing: 102331.22536129862\n"
     ]
    }
   ],
   "source": [
    "# Initialize the XGBoost model\n",
    "model = XGBRegressor()\n",
    "\n",
    "# Fit the model on the training data\n",
    "model.fit(X_train, y_train)\n",
    "\n",
    "# Make predictions on the test data\n",
    "y_pred_train = model.predict(X_train)\n",
    "y_pred_test = model.predict(X_test)\n",
    "\n",
    "# Evaluate the model\n",
    "training_mae = mean_absolute_error(y_train, y_pred_train)\n",
    "print(f'Mean Absolute Error on Training: {training_mae}')\n",
    "\n",
    "testing_mae = mean_absolute_error(y_test, y_pred_test)\n",
    "print(f'Mean Absolute Error on Testing: {testing_mae}')"
   ]
  },
  {
   "cell_type": "code",
   "execution_count": 138,
   "metadata": {},
   "outputs": [
    {
     "data": {
      "image/png": "[encoded data removed]",
      "text/plain": [
       "<Figure size 640x480 with 1 Axes>"
      ]
     },
     "metadata": {},
     "output_type": "display_data"
    }
   ],
   "source": [
    "# Plotting the MAE\n",
    "mae_values = [training_mae, testing_mae]\n",
    "labels = ['Training MAE', 'Testing MAE']\n",
    "\n",
    "plt.bar(labels, mae_values, color=['blue', 'orange'])\n",
    "plt.xlabel('Data Set')\n",
    "plt.ylabel('Mean Absolute Error')\n",
    "plt.title('Mean Absolute Error on Training and Testing Sets')\n",
    "plt.show()"
   ]
  },
  {
   "cell_type": "markdown",
   "metadata": {},
   "source": [
    "### Tuned The Hyperparameter"
   ]
  },
  {
   "cell_type": "code",
   "execution_count": 139,
   "metadata": {},
   "outputs": [
    {
     "name": "stdout",
     "output_type": "stream",
     "text": [
      "Fitting 5 folds for each of 27 candidates, totalling 135 fits\n",
      "[CV] END ...learning_rate=0.3, max_depth=9, n_estimators=500; total time=  45.5s\n",
      "[CV] END ...learning_rate=0.3, max_depth=9, n_estimators=500; total time=  45.7s\n",
      "[CV] END ...learning_rate=0.3, max_depth=9, n_estimators=500; total time=  45.9s\n",
      "[CV] END ...learning_rate=0.3, max_depth=9, n_estimators=500; total time=  45.9s\n",
      "[CV] END ...learning_rate=0.3, max_depth=9, n_estimators=500; total time=  39.7s\n",
      "[CV] END ..learning_rate=0.3, max_depth=9, n_estimators=1000; total time= 1.3min\n",
      "[CV] END ..learning_rate=0.3, max_depth=9, n_estimators=1000; total time= 1.3min\n",
      "[CV] END ..learning_rate=0.3, max_depth=9, n_estimators=1000; total time= 1.3min\n",
      "[CV] END ..learning_rate=0.3, max_depth=9, n_estimators=1000; total time= 1.0min\n",
      "[CV] END ..learning_rate=0.3, max_depth=9, n_estimators=1000; total time= 1.1min\n",
      "[CV] END ..learning_rate=0.3, max_depth=9, n_estimators=2000; total time= 2.1min\n",
      "[CV] END ..learning_rate=0.3, max_depth=9, n_estimators=2000; total time= 2.1min\n",
      "[CV] END ..learning_rate=0.3, max_depth=9, n_estimators=2000; total time= 2.1min\n",
      "[CV] END ..learning_rate=0.3, max_depth=10, n_estimators=500; total time=  34.4s\n",
      "[CV] END ..learning_rate=0.3, max_depth=9, n_estimators=2000; total time= 1.8min\n",
      "[CV] END ..learning_rate=0.3, max_depth=10, n_estimators=500; total time=  32.1s\n",
      "[CV] END ..learning_rate=0.3, max_depth=10, n_estimators=500; total time=  31.2s\n",
      "[CV] END ..learning_rate=0.3, max_depth=10, n_estimators=500; total time=  32.8s\n",
      "[CV] END ..learning_rate=0.3, max_depth=10, n_estimators=500; total time=  33.1s\n",
      "[CV] END ..learning_rate=0.3, max_depth=9, n_estimators=2000; total time= 1.6min\n",
      "[CV] END .learning_rate=0.3, max_depth=10, n_estimators=1000; total time= 1.0min\n",
      "[CV] END .learning_rate=0.3, max_depth=10, n_estimators=1000; total time=  54.2s\n",
      "[CV] END .learning_rate=0.3, max_depth=10, n_estimators=1000; total time=  52.0s\n",
      "[CV] END .learning_rate=0.3, max_depth=10, n_estimators=1000; total time=  48.4s\n",
      "[CV] END .learning_rate=0.3, max_depth=10, n_estimators=1000; total time=  43.6s\n",
      "[CV] END .learning_rate=0.3, max_depth=10, n_estimators=2000; total time= 2.1min\n",
      "[CV] END .learning_rate=0.3, max_depth=10, n_estimators=2000; total time= 2.1min\n",
      "[CV] END .learning_rate=0.3, max_depth=10, n_estimators=2000; total time= 2.1min\n",
      "[CV] END ..learning_rate=0.3, max_depth=11, n_estimators=500; total time=  37.3s\n",
      "[CV] END .learning_rate=0.3, max_depth=10, n_estimators=2000; total time= 2.2min\n",
      "[CV] END ..learning_rate=0.3, max_depth=11, n_estimators=500; total time=  41.7s\n",
      "[CV] END ..learning_rate=0.3, max_depth=11, n_estimators=500; total time=  39.0s\n",
      "[CV] END ..learning_rate=0.3, max_depth=11, n_estimators=500; total time=  37.4s\n",
      "[CV] END ..learning_rate=0.3, max_depth=11, n_estimators=500; total time=  36.4s\n",
      "[CV] END .learning_rate=0.3, max_depth=10, n_estimators=2000; total time= 1.9min\n",
      "[CV] END .learning_rate=0.3, max_depth=11, n_estimators=1000; total time= 1.2min\n",
      "[CV] END .learning_rate=0.3, max_depth=11, n_estimators=1000; total time= 1.2min\n",
      "[CV] END .learning_rate=0.3, max_depth=11, n_estimators=1000; total time= 1.1min\n",
      "[CV] END .learning_rate=0.3, max_depth=11, n_estimators=1000; total time= 1.1min\n",
      "[CV] END .learning_rate=0.3, max_depth=11, n_estimators=1000; total time= 1.0min\n",
      "[CV] END .learning_rate=0.3, max_depth=11, n_estimators=2000; total time= 2.1min\n",
      "[CV] END .learning_rate=0.3, max_depth=11, n_estimators=2000; total time= 2.3min\n",
      "[CV] END .learning_rate=0.3, max_depth=11, n_estimators=2000; total time= 2.3min\n",
      "[CV] END ...learning_rate=0.4, max_depth=9, n_estimators=500; total time=  22.3s\n",
      "[CV] END ...learning_rate=0.4, max_depth=9, n_estimators=500; total time=  21.5s\n",
      "[CV] END ...learning_rate=0.4, max_depth=9, n_estimators=500; total time=  21.6s\n",
      "[CV] END ...learning_rate=0.4, max_depth=9, n_estimators=500; total time=  20.2s\n",
      "[CV] END ...learning_rate=0.4, max_depth=9, n_estimators=500; total time=  21.1s\n",
      "[CV] END .learning_rate=0.3, max_depth=11, n_estimators=2000; total time= 2.5min\n",
      "[CV] END ..learning_rate=0.4, max_depth=9, n_estimators=1000; total time=  41.5s\n",
      "[CV] END ..learning_rate=0.4, max_depth=9, n_estimators=1000; total time=  41.9s\n",
      "[CV] END ..learning_rate=0.4, max_depth=9, n_estimators=1000; total time=  41.4s\n",
      "[CV] END .learning_rate=0.3, max_depth=11, n_estimators=2000; total time= 2.5min\n",
      "[CV] END ..learning_rate=0.4, max_depth=9, n_estimators=1000; total time=  50.2s\n",
      "[CV] END ..learning_rate=0.4, max_depth=9, n_estimators=1000; total time=  52.5s\n",
      "[CV] END ..learning_rate=0.4, max_depth=9, n_estimators=2000; total time= 2.0min\n",
      "[CV] END ..learning_rate=0.4, max_depth=9, n_estimators=2000; total time= 2.1min\n",
      "[CV] END ..learning_rate=0.4, max_depth=9, n_estimators=2000; total time= 2.1min\n",
      "[CV] END ..learning_rate=0.4, max_depth=9, n_estimators=2000; total time= 2.0min\n",
      "[CV] END ..learning_rate=0.4, max_depth=10, n_estimators=500; total time=  33.1s\n",
      "[CV] END ..learning_rate=0.4, max_depth=10, n_estimators=500; total time=  25.3s\n",
      "[CV] END ..learning_rate=0.4, max_depth=10, n_estimators=500; total time=  23.6s\n",
      "[CV] END ..learning_rate=0.4, max_depth=10, n_estimators=500; total time=  21.7s\n",
      "[CV] END ..learning_rate=0.4, max_depth=9, n_estimators=2000; total time= 1.4min\n",
      "[CV] END ..learning_rate=0.4, max_depth=10, n_estimators=500; total time=  20.7s\n",
      "[CV] END .learning_rate=0.4, max_depth=10, n_estimators=1000; total time=  41.5s\n",
      "[CV] END .learning_rate=0.4, max_depth=10, n_estimators=1000; total time=  41.4s\n",
      "[CV] END .learning_rate=0.4, max_depth=10, n_estimators=1000; total time=  40.2s\n",
      "[CV] END .learning_rate=0.4, max_depth=10, n_estimators=1000; total time=  39.6s\n",
      "[CV] END .learning_rate=0.4, max_depth=10, n_estimators=1000; total time=  39.4s\n",
      "[CV] END .learning_rate=0.4, max_depth=10, n_estimators=2000; total time= 1.4min\n",
      "[CV] END .learning_rate=0.4, max_depth=10, n_estimators=2000; total time= 1.4min\n",
      "[CV] END .learning_rate=0.4, max_depth=10, n_estimators=2000; total time= 1.3min\n",
      "[CV] END ..learning_rate=0.4, max_depth=11, n_estimators=500; total time=  25.4s\n",
      "[CV] END .learning_rate=0.4, max_depth=10, n_estimators=2000; total time= 1.4min\n",
      "[CV] END ..learning_rate=0.4, max_depth=11, n_estimators=500; total time=  25.7s\n",
      "[CV] END ..learning_rate=0.4, max_depth=11, n_estimators=500; total time=  26.6s\n",
      "[CV] END ..learning_rate=0.4, max_depth=11, n_estimators=500; total time=  26.5s\n",
      "[CV] END ..learning_rate=0.4, max_depth=11, n_estimators=500; total time=  26.7s\n",
      "[CV] END .learning_rate=0.4, max_depth=10, n_estimators=2000; total time= 1.4min\n",
      "[CV] END .learning_rate=0.4, max_depth=11, n_estimators=1000; total time=  51.1s\n",
      "[CV] END .learning_rate=0.4, max_depth=11, n_estimators=1000; total time=  50.9s\n",
      "[CV] END .learning_rate=0.4, max_depth=11, n_estimators=1000; total time=  51.4s\n",
      "[CV] END .learning_rate=0.4, max_depth=11, n_estimators=1000; total time=  45.9s\n",
      "[CV] END .learning_rate=0.4, max_depth=11, n_estimators=1000; total time=  42.9s\n",
      "[CV] END .learning_rate=0.4, max_depth=11, n_estimators=2000; total time= 1.2min\n",
      "[CV] END .learning_rate=0.4, max_depth=11, n_estimators=2000; total time= 1.1min\n",
      "[CV] END ...learning_rate=0.5, max_depth=9, n_estimators=500; total time=  11.8s\n",
      "[CV] END .learning_rate=0.4, max_depth=11, n_estimators=2000; total time= 1.2min\n",
      "[CV] END ...learning_rate=0.5, max_depth=9, n_estimators=500; total time=  11.8s\n",
      "[CV] END ...learning_rate=0.5, max_depth=9, n_estimators=500; total time=  12.1s\n",
      "[CV] END ...learning_rate=0.5, max_depth=9, n_estimators=500; total time=  11.9s\n",
      "[CV] END .learning_rate=0.4, max_depth=11, n_estimators=2000; total time= 1.2min\n",
      "[CV] END ...learning_rate=0.5, max_depth=9, n_estimators=500; total time=  11.7s\n",
      "[CV] END ..learning_rate=0.5, max_depth=9, n_estimators=1000; total time=  23.3s\n",
      "[CV] END ..learning_rate=0.5, max_depth=9, n_estimators=1000; total time=  23.9s\n",
      "[CV] END ..learning_rate=0.5, max_depth=9, n_estimators=1000; total time=  23.4s\n",
      "[CV] END .learning_rate=0.4, max_depth=11, n_estimators=2000; total time= 1.2min\n",
      "[CV] END ..learning_rate=0.5, max_depth=9, n_estimators=1000; total time=  23.0s\n",
      "[CV] END ..learning_rate=0.5, max_depth=9, n_estimators=1000; total time=  24.9s\n",
      "[CV] END ..learning_rate=0.5, max_depth=9, n_estimators=2000; total time=  58.3s\n",
      "[CV] END ..learning_rate=0.5, max_depth=9, n_estimators=2000; total time= 1.0min\n",
      "[CV] END ..learning_rate=0.5, max_depth=9, n_estimators=2000; total time= 1.2min\n",
      "[CV] END ..learning_rate=0.5, max_depth=10, n_estimators=500; total time=  27.6s\n",
      "[CV] END ..learning_rate=0.5, max_depth=9, n_estimators=2000; total time= 1.2min\n",
      "[CV] END ..learning_rate=0.5, max_depth=10, n_estimators=500; total time=  20.8s\n",
      "[CV] END ..learning_rate=0.5, max_depth=10, n_estimators=500; total time=  20.1s\n",
      "[CV] END ..learning_rate=0.5, max_depth=10, n_estimators=500; total time=  20.2s\n",
      "[CV] END ..learning_rate=0.5, max_depth=9, n_estimators=2000; total time= 1.1min\n",
      "[CV] END ..learning_rate=0.5, max_depth=10, n_estimators=500; total time=  19.8s\n",
      "[CV] END .learning_rate=0.5, max_depth=10, n_estimators=1000; total time=  39.6s\n",
      "[CV] END .learning_rate=0.5, max_depth=10, n_estimators=1000; total time=  39.3s\n",
      "[CV] END .learning_rate=0.5, max_depth=10, n_estimators=1000; total time=  42.8s\n",
      "[CV] END .learning_rate=0.5, max_depth=10, n_estimators=1000; total time=  42.6s\n",
      "[CV] END .learning_rate=0.5, max_depth=10, n_estimators=1000; total time=  47.1s\n",
      "[CV] END .learning_rate=0.5, max_depth=10, n_estimators=2000; total time= 1.6min\n",
      "[CV] END .learning_rate=0.5, max_depth=10, n_estimators=2000; total time= 1.5min\n",
      "[CV] END .learning_rate=0.5, max_depth=10, n_estimators=2000; total time= 1.6min\n",
      "[CV] END ..learning_rate=0.5, max_depth=11, n_estimators=500; total time=  38.5s\n",
      "[CV] END ..learning_rate=0.5, max_depth=11, n_estimators=500; total time=  39.0s\n",
      "[CV] END .learning_rate=0.5, max_depth=10, n_estimators=2000; total time= 1.7min\n",
      "[CV] END ..learning_rate=0.5, max_depth=11, n_estimators=500; total time=  28.5s\n",
      "[CV] END ..learning_rate=0.5, max_depth=11, n_estimators=500; total time=  25.9s\n",
      "[CV] END ..learning_rate=0.5, max_depth=11, n_estimators=500; total time=  26.0s\n",
      "[CV] END .learning_rate=0.5, max_depth=10, n_estimators=2000; total time= 1.6min\n",
      "[CV] END .learning_rate=0.5, max_depth=11, n_estimators=1000; total time= 1.0min\n",
      "[CV] END .learning_rate=0.5, max_depth=11, n_estimators=1000; total time= 1.0min\n",
      "[CV] END .learning_rate=0.5, max_depth=11, n_estimators=1000; total time= 1.0min\n",
      "[CV] END .learning_rate=0.5, max_depth=11, n_estimators=1000; total time= 1.1min\n",
      "[CV] END .learning_rate=0.5, max_depth=11, n_estimators=1000; total time=  57.8s\n",
      "[CV] END .learning_rate=0.5, max_depth=11, n_estimators=2000; total time= 1.5min\n",
      "[CV] END .learning_rate=0.5, max_depth=11, n_estimators=2000; total time= 1.5min\n",
      "[CV] END .learning_rate=0.5, max_depth=11, n_estimators=2000; total time= 1.5min\n",
      "[CV] END .learning_rate=0.5, max_depth=11, n_estimators=2000; total time= 1.3min\n",
      "[CV] END .learning_rate=0.5, max_depth=11, n_estimators=2000; total time=  56.3s\n",
      "Best Parameters: {'learning_rate': 0.3, 'max_depth': 9, 'n_estimators': 500}\n",
      "Best Mean Absolute Error: 82725.3956476499\n"
     ]
    }
   ],
   "source": [
    "# Define the model\n",
    "tuned_model = XGBRegressor(random_state=42)\n",
    "\n",
    "# Define the parameter grid\n",
    "param_grid = {\n",
    "    'n_estimators': [500, 1000, 2000],\n",
    "    'learning_rate': [0.3, 0.4, 0.5],\n",
    "    'max_depth': [9, 10, 11]\n",
    "}\n",
    "\n",
    "# Set up the Grid Search\n",
    "grid_search = GridSearchCV(estimator=tuned_model, \n",
    "                           param_grid=param_grid, \n",
    "                           scoring='neg_mean_absolute_error', \n",
    "                           cv=5, \n",
    "                           verbose=2, \n",
    "                           n_jobs=-1)\n",
    "\n",
    "# Fit the Grid Search\n",
    "grid_search.fit(X_train, y_train)\n",
    "\n",
    "# Get the best parameters and best score\n",
    "best_params = grid_search.best_params_\n",
    "best_score = grid_search.best_score_\n",
    "\n",
    "print(f'Best Parameters: {best_params}')\n",
    "print(f'Best Mean Absolute Error: {-best_score}')\n"
   ]
  },
  {
   "cell_type": "markdown",
   "metadata": {},
   "source": [
    "### Cross Validation"
   ]
  },
  {
   "cell_type": "code",
   "execution_count": 140,
   "metadata": {},
   "outputs": [
    {
     "name": "stdout",
     "output_type": "stream",
     "text": [
      "Cross-Validation MAE Scores: [86029.88091596 78996.88650418 82676.7526336  82931.39954611\n",
      " 82406.94535887]\n",
      "Mean Cross-Validation MAE: 82608.37299174287\n",
      "Mean Absolute Error on Testing: 78952.62358181538\n"
     ]
    }
   ],
   "source": [
    "# Define your XGBoost model\n",
    "model = XGBRegressor(learning_rate=0.3, max_depth=9, n_estimators=500, random_state=42)\n",
    "\n",
    "# Define the k-fold cross-validation scheme\n",
    "kf = KFold(n_splits=5, shuffle=True, random_state=42)\n",
    "\n",
    "# Define the scoring function\n",
    "scorer = make_scorer(mean_absolute_error, greater_is_better=False)\n",
    "\n",
    "# Perform cross-validation and get scores\n",
    "cv_scores = cross_val_score(model, X_train, y_train, cv=kf, scoring=scorer)\n",
    "\n",
    "# Convert negative MAE to positive since we used greater_is_better=False\n",
    "cv_scores = -cv_scores\n",
    "\n",
    "# Print the cross-validation scores and their mean\n",
    "print(f'Cross-Validation MAE Scores: {cv_scores}')\n",
    "print(f'Mean Cross-Validation MAE: {np.mean(cv_scores)}')\n",
    "\n",
    "# Fit the model on the entire training data\n",
    "model.fit(X_train, y_train)\n",
    "\n",
    "# Make predictions on the test data\n",
    "y_pred_test = model.predict(X_test)\n",
    "\n",
    "# Evaluate the model on the test data\n",
    "testing_mae = mean_absolute_error(y_test, y_pred_test)\n",
    "print(f'Mean Absolute Error on Testing: {testing_mae}')"
   ]
  },
  {
   "cell_type": "code",
   "execution_count": 141,
   "metadata": {},
   "outputs": [
    {
     "data": {
      "image/png": "[encoded data removed]",
      "text/plain": [
       "<Figure size 1000x600 with 1 Axes>"
      ]
     },
     "metadata": {},
     "output_type": "display_data"
    }
   ],
   "source": [
    "# Plotting the MAE for each fold and the test set\n",
    "fold_labels = [f'Fold {i+1}' for i in range(len(cv_scores))]\n",
    "\n",
    "mae_values = list(cv_scores)\n",
    "\n",
    "plt.figure(figsize=(10, 6))\n",
    "plt.bar(fold_labels, mae_values, color=['blue']*len(cv_scores))\n",
    "plt.xlabel('Data Set')\n",
    "plt.ylabel('Mean Absolute Error')\n",
    "plt.title('Mean Absolute Error for Each Fold')\n",
    "plt.show()"
   ]
  },
  {
   "cell_type": "markdown",
   "metadata": {},
   "source": [
    "## Train With Best Parameter"
   ]
  },
  {
   "cell_type": "code",
   "execution_count": 142,
   "metadata": {},
   "outputs": [
    {
     "name": "stdout",
     "output_type": "stream",
     "text": [
      "Mean Absolute Error on Training: 48163.15531532594\n",
      "Mean Absolute Error on Testing: 78952.62358181538\n"
     ]
    }
   ],
   "source": [
    "# Initialize the XGBoost model\n",
    "model = XGBRegressor(learning_rate=0.3, max_depth=9, n_estimators=500, random_state=42)\n",
    "\n",
    "# Fit the model on the training data\n",
    "model.fit(X_train, y_train)\n",
    "\n",
    "# Make predictions on the test data\n",
    "y_pred_train = model.predict(X_train)\n",
    "y_pred_test = model.predict(X_test)\n",
    "\n",
    "# Evaluate the model\n",
    "training_mae = mean_absolute_error(y_train, y_pred_train)\n",
    "print(f'Mean Absolute Error on Training: {training_mae}')\n",
    "\n",
    "testing_mae = mean_absolute_error(y_test, y_pred_test)\n",
    "print(f'Mean Absolute Error on Testing: {testing_mae}')"
   ]
  },
  {
   "cell_type": "code",
   "execution_count": 143,
   "metadata": {},
   "outputs": [
    {
     "data": {
      "image/png": "[encoded data removed]",
      "text/plain": [
       "<Figure size 640x480 with 1 Axes>"
      ]
     },
     "metadata": {},
     "output_type": "display_data"
    }
   ],
   "source": [
    "# Plotting the MAE\n",
    "mae_values = [training_mae, testing_mae]\n",
    "labels = ['Training MAE', 'Testing MAE']\n",
    "\n",
    "plt.bar(labels, mae_values, color=['blue', 'orange'])\n",
    "plt.xlabel('Data Set')\n",
    "plt.ylabel('Mean Absolute Error')\n",
    "plt.title('Mean Absolute Error on Training and Testing Sets')\n",
    "plt.show()"
   ]
  },
  {
   "cell_type": "markdown",
   "metadata": {},
   "source": [
    "### Feature Important"
   ]
  },
  {
   "cell_type": "code",
   "execution_count": 144,
   "metadata": {},
   "outputs": [
    {
     "data": {
      "image/png": "[encoded data removed]",
      "text/plain": [
       "<Figure size 1000x600 with 1 Axes>"
      ]
     },
     "metadata": {},
     "output_type": "display_data"
    },
    {
     "name": "stdout",
     "output_type": "stream",
     "text": [
      "Mean Absolute Error: 78952.62358181538\n"
     ]
    }
   ],
   "source": [
    "import matplotlib.pyplot as plt\n",
    "\n",
    "# Initialize a new XGBoost model with the best hyperparameters\n",
    "best_model = XGBRegressor(learning_rate=0.3, max_depth=9, n_estimators=500, random_state=42)\n",
    "\n",
    "# Train the model on the entire training dataset with the best hyperparameters\n",
    "best_model.fit(X_train, y_train)\n",
    "\n",
    "# Get feature importances from the best model\n",
    "feature_importances = best_model.feature_importances_\n",
    "\n",
    "# Create a DataFrame to store feature importances with corresponding column names\n",
    "fi_df = pd.DataFrame({'Feature': X.columns, 'Importance': feature_importances})\n",
    "\n",
    "# Sort the DataFrame by feature importance values\n",
    "fi_df = fi_df.sort_values(by='Importance', ascending=True)\n",
    "\n",
    "# Plot feature importances\n",
    "plt.figure(figsize=(10, 6))\n",
    "plt.barh(fi_df['Feature'], fi_df['Importance'])\n",
    "plt.xlabel('Feature Importance')\n",
    "plt.ylabel('Feature')\n",
    "plt.title('Feature Importance Plot')\n",
    "plt.show()\n",
    "\n",
    "# Make predictions on the test set using the best model\n",
    "y_pred = best_model.predict(X_test)\n",
    "\n",
    "# Calculate Mean Absolute Error (MAE)\n",
    "mae = mean_absolute_error(y_test, y_pred)\n",
    "print(\"Mean Absolute Error:\", mae)"
   ]
  },
  {
   "cell_type": "markdown",
   "metadata": {},
   "source": [
    "### Predict with Feature Important "
   ]
  },
  {
   "cell_type": "code",
   "execution_count": 171,
   "metadata": {},
   "outputs": [],
   "source": [
    "important_column = ['bedroom',\n",
    "                    'lat',  \n",
    "                    'guests',\n",
    "                    'parking', \n",
    "                    'beachfront',\n",
    "                    'pool',\n",
    "                    'ac',\n",
    "                    'kitchen', \n",
    "                    'tv', \n",
    "                    'hair_dryer',\n",
    "                    'washer',\n",
    "                    'booking_window',\n",
    "                    'breakfast', \n",
    "                    'stay_duration_in_days',\n",
    "                    'bathroom', \n",
    "                    'beds']\n",
    "\n",
    "X_important = df[important_column]\n",
    "y_important = df['average_daily_rate']"
   ]
  },
  {
   "cell_type": "code",
   "execution_count": 172,
   "metadata": {},
   "outputs": [],
   "source": [
    "X_important_train, X_important_test, y_important_train, y_important_test = train_test_split(X_important, y_important, test_size=0.2, random_state=42)"
   ]
  },
  {
   "cell_type": "code",
   "execution_count": 173,
   "metadata": {},
   "outputs": [
    {
     "name": "stdout",
     "output_type": "stream",
     "text": [
      "Mean Absolute Error on Training: 49096.86349737242\n",
      "Mean Absolute Error on Testing: 59862.81716175487\n"
     ]
    }
   ],
   "source": [
    "# Initialize the XGBoost model\n",
    "model = XGBRegressor(learning_rate=0.3, max_depth=9, n_estimators=500, random_state=42)\n",
    "\n",
    "# Fit the model on the training data\n",
    "model.fit(X_important_train, y_important_train)\n",
    "\n",
    "# Make predictions on the test data\n",
    "y_pred_important_train = model.predict(X_important_train)\n",
    "y_pred_important_test = model.predict(X_important_test)\n",
    "\n",
    "# Evaluate the model\n",
    "training_important_mae = mean_absolute_error(y_important_train, y_pred_important_train)\n",
    "print(f'Mean Absolute Error on Training: {training_important_mae}')\n",
    "\n",
    "testing_important_mae = mean_absolute_error(y_important_test, y_pred_important_test)\n",
    "print(f'Mean Absolute Error on Testing: {testing_important_mae}')"
   ]
  },
  {
   "cell_type": "code",
   "execution_count": 187,
   "metadata": {},
   "outputs": [
    {
     "data": {
      "image/png": "[encoded data removed]",
      "text/plain": [
       "<Figure size 640x480 with 1 Axes>"
      ]
     },
     "metadata": {},
     "output_type": "display_data"
    }
   ],
   "source": [
    "# Plotting the MAE\n",
    "mae_values = [training_important_mae, testing_important_mae]\n",
    "labels = ['Training MAE', 'Testing MAE']\n",
    "\n",
    "plt.bar(labels, mae_values, color=['blue', 'orange'])\n",
    "plt.xlabel('Data Set')\n",
    "plt.ylabel('Mean Absolute Error')\n",
    "plt.title('Mean Absolute Error on Training and Testing Sets')\n",
    "plt.show()"
   ]
  },
  {
   "cell_type": "code",
   "execution_count": 181,
   "metadata": {},
   "outputs": [
    {
     "data": {
      "image/png": "[encoded data removed]",
      "text/plain": [
       "<Figure size 1400x1000 with 2 Axes>"
      ]
     },
     "metadata": {},
     "output_type": "display_data"
    }
   ],
   "source": [
    "# Calculate errors\n",
    "errors_train = y_important_train - y_pred_important_train\n",
    "errors_test = y_important_test - y_pred_important_test\n",
    "\n",
    "# Create a figure and axes\n",
    "fig, axs = plt.subplots(2, 1, figsize=(14, 10))\n",
    "\n",
    "# Plot training errors\n",
    "axs[0].bar(range(len(errors_train)), errors_train, color=np.where(errors_train > 0, 'blue', 'red'))\n",
    "axs[0].axhline(0, color='black', linewidth=0.5)\n",
    "axs[0].set_title('Errors on Training Data')\n",
    "axs[0].set_xlabel('Data Point Index')\n",
    "axs[0].set_ylabel('Error')\n",
    "axs[0].set_ylim(min(errors_train) * 1.1, max(errors_train) * 1.1)\n",
    "\n",
    "# Plot testing errors\n",
    "axs[1].bar(range(len(errors_test)), errors_test, color=np.where(errors_test > 0, 'blue', 'red'))\n",
    "axs[1].axhline(0, color='black', linewidth=0.5)\n",
    "axs[1].set_title('Errors on Testing Data')\n",
    "axs[1].set_xlabel('Data Point Index')\n",
    "axs[1].set_ylabel('Error')\n",
    "axs[1].set_ylim(min(errors_test) * 1.1, max(errors_test) * 1.1)\n",
    "\n",
    "# Adjust layout\n",
    "plt.tight_layout()\n",
    "plt.show()"
   ]
  },
  {
   "cell_type": "code",
   "execution_count": 182,
   "metadata": {},
   "outputs": [
    {
     "data": {
      "text/html": [
       "<div>\n",
       "<style scoped>\n",
       "    .dataframe tbody tr th:only-of-type {\n",
       "        vertical-align: middle;\n",
       "    }\n",
       "\n",
       "    .dataframe tbody tr th {\n",
       "        vertical-align: top;\n",
       "    }\n",
       "\n",
       "    .dataframe thead th {\n",
       "        text-align: right;\n",
       "    }\n",
       "</style>\n",
       "<table border=\"1\" class=\"dataframe\">\n",
       "  <thead>\n",
       "    <tr style=\"text-align: right;\">\n",
       "      <th></th>\n",
       "      <th>index</th>\n",
       "      <th>average_daily_rate</th>\n",
       "      <th>predicted</th>\n",
       "      <th>error</th>\n",
       "    </tr>\n",
       "  </thead>\n",
       "  <tbody>\n",
       "    <tr>\n",
       "      <th>0</th>\n",
       "      <td>51629</td>\n",
       "      <td>1.620324e+06</td>\n",
       "      <td>4335710.500</td>\n",
       "      <td>-2.715386e+06</td>\n",
       "    </tr>\n",
       "    <tr>\n",
       "      <th>1</th>\n",
       "      <td>51630</td>\n",
       "      <td>1.620324e+06</td>\n",
       "      <td>4335710.500</td>\n",
       "      <td>-2.715386e+06</td>\n",
       "    </tr>\n",
       "    <tr>\n",
       "      <th>2</th>\n",
       "      <td>23878</td>\n",
       "      <td>8.301597e+05</td>\n",
       "      <td>3366595.250</td>\n",
       "      <td>-2.536436e+06</td>\n",
       "    </tr>\n",
       "    <tr>\n",
       "      <th>3</th>\n",
       "      <td>40381</td>\n",
       "      <td>7.201565e+05</td>\n",
       "      <td>2451309.500</td>\n",
       "      <td>-1.731153e+06</td>\n",
       "    </tr>\n",
       "    <tr>\n",
       "      <th>4</th>\n",
       "      <td>9803</td>\n",
       "      <td>6.701236e+05</td>\n",
       "      <td>2294140.250</td>\n",
       "      <td>-1.624017e+06</td>\n",
       "    </tr>\n",
       "    <tr>\n",
       "      <th>5</th>\n",
       "      <td>9804</td>\n",
       "      <td>6.701236e+05</td>\n",
       "      <td>2294140.250</td>\n",
       "      <td>-1.624017e+06</td>\n",
       "    </tr>\n",
       "    <tr>\n",
       "      <th>6</th>\n",
       "      <td>55133</td>\n",
       "      <td>5.501100e+06</td>\n",
       "      <td>7091197.500</td>\n",
       "      <td>-1.590098e+06</td>\n",
       "    </tr>\n",
       "    <tr>\n",
       "      <th>7</th>\n",
       "      <td>17003</td>\n",
       "      <td>1.701346e+06</td>\n",
       "      <td>3166872.250</td>\n",
       "      <td>-1.465527e+06</td>\n",
       "    </tr>\n",
       "    <tr>\n",
       "      <th>8</th>\n",
       "      <td>3261</td>\n",
       "      <td>7.506161e+05</td>\n",
       "      <td>2031854.125</td>\n",
       "      <td>-1.281238e+06</td>\n",
       "    </tr>\n",
       "    <tr>\n",
       "      <th>9</th>\n",
       "      <td>3246</td>\n",
       "      <td>7.506161e+05</td>\n",
       "      <td>2031854.125</td>\n",
       "      <td>-1.281238e+06</td>\n",
       "    </tr>\n",
       "  </tbody>\n",
       "</table>\n",
       "</div>"
      ],
      "text/plain": [
       "   index  average_daily_rate    predicted         error\n",
       "0  51629        1.620324e+06  4335710.500 -2.715386e+06\n",
       "1  51630        1.620324e+06  4335710.500 -2.715386e+06\n",
       "2  23878        8.301597e+05  3366595.250 -2.536436e+06\n",
       "3  40381        7.201565e+05  2451309.500 -1.731153e+06\n",
       "4   9803        6.701236e+05  2294140.250 -1.624017e+06\n",
       "5   9804        6.701236e+05  2294140.250 -1.624017e+06\n",
       "6  55133        5.501100e+06  7091197.500 -1.590098e+06\n",
       "7  17003        1.701346e+06  3166872.250 -1.465527e+06\n",
       "8   3261        7.506161e+05  2031854.125 -1.281238e+06\n",
       "9   3246        7.506161e+05  2031854.125 -1.281238e+06"
      ]
     },
     "execution_count": 182,
     "metadata": {},
     "output_type": "execute_result"
    }
   ],
   "source": [
    "# Create DataFrames for training and testing datasets\n",
    "train_data = pd.DataFrame({\n",
    "    'index': X_important_train.index,\n",
    "    'average_daily_rate': y_important_train,\n",
    "    'predicted': y_pred_important_train, \n",
    "    'error': errors_train\n",
    "})\n",
    "\n",
    "test_data = pd.DataFrame({\n",
    "    'index': X_important_test.index,\n",
    "    'average_daily_rate': y_important_test,\n",
    "    'predicted': y_pred_important_test, \n",
    "    'error': errors_test\n",
    "})\n",
    "\n",
    "# Optionally, concatenate the training and testing datasets into one DataFrame\n",
    "combined_data = pd.concat([train_data, test_data], axis=0).reset_index(drop=True)\n",
    "\n",
    "# Sort the combined DataFrame by the 'error' column in ascending order\n",
    "sorted_combined_data = combined_data.sort_values(by='error', ascending=True).reset_index(drop=True)\n",
    "\n",
    "# Display the first few rows of the sorted DataFrame\n",
    "sorted_combined_data.head(10)\n"
   ]
  },
  {
   "cell_type": "code",
   "execution_count": 185,
   "metadata": {},
   "outputs": [
    {
     "data": {
      "text/plain": [
       "(8473, 4)"
      ]
     },
     "execution_count": 185,
     "metadata": {},
     "output_type": "execute_result"
    }
   ],
   "source": [
    "# Filter the DataFrame to include only rows where the absolute value of the error is above 100,000\n",
    "filtered_data = sorted_combined_data[sorted_combined_data['error'].abs() > 100000]\n",
    "\n",
    "# Display the filtered DataFrame\n",
    "filtered_data.shape"
   ]
  },
  {
   "cell_type": "code",
   "execution_count": 186,
   "metadata": {},
   "outputs": [
    {
     "data": {
      "text/html": [
       "<div>\n",
       "<style scoped>\n",
       "    .dataframe tbody tr th:only-of-type {\n",
       "        vertical-align: middle;\n",
       "    }\n",
       "\n",
       "    .dataframe tbody tr th {\n",
       "        vertical-align: top;\n",
       "    }\n",
       "\n",
       "    .dataframe thead th {\n",
       "        text-align: right;\n",
       "    }\n",
       "</style>\n",
       "<table border=\"1\" class=\"dataframe\">\n",
       "  <thead>\n",
       "    <tr style=\"text-align: right;\">\n",
       "      <th></th>\n",
       "      <th>index</th>\n",
       "      <th>property_name</th>\n",
       "      <th>room_id</th>\n",
       "      <th>bedroom</th>\n",
       "      <th>bathroom</th>\n",
       "      <th>beds</th>\n",
       "      <th>guests</th>\n",
       "      <th>wifi</th>\n",
       "      <th>tv</th>\n",
       "      <th>cable_tv</th>\n",
       "      <th>...</th>\n",
       "      <th>beachfront</th>\n",
       "      <th>building_staff</th>\n",
       "      <th>lat</th>\n",
       "      <th>lng</th>\n",
       "      <th>booking_window</th>\n",
       "      <th>stay_duration_in_days</th>\n",
       "      <th>avg_rating</th>\n",
       "      <th>avg_review_sentiment_score</th>\n",
       "      <th>rating_count</th>\n",
       "      <th>average_daily_rate</th>\n",
       "    </tr>\n",
       "  </thead>\n",
       "  <tbody>\n",
       "    <tr>\n",
       "      <th>0</th>\n",
       "      <td>3248</td>\n",
       "      <td>Kembang Kuning</td>\n",
       "      <td>394914</td>\n",
       "      <td>1</td>\n",
       "      <td>1</td>\n",
       "      <td>1</td>\n",
       "      <td>2</td>\n",
       "      <td>1</td>\n",
       "      <td>0</td>\n",
       "      <td>0</td>\n",
       "      <td>...</td>\n",
       "      <td>0</td>\n",
       "      <td>0</td>\n",
       "      <td>-8.806327</td>\n",
       "      <td>115.11306</td>\n",
       "      <td>29</td>\n",
       "      <td>2</td>\n",
       "      <td>4.5503</td>\n",
       "      <td>0.73638</td>\n",
       "      <td>150</td>\n",
       "      <td>750616.14</td>\n",
       "    </tr>\n",
       "  </tbody>\n",
       "</table>\n",
       "<p>1 rows × 39 columns</p>\n",
       "</div>"
      ],
      "text/plain": [
       "   index   property_name  room_id  bedroom  bathroom  beds  guests  wifi  tv  \\\n",
       "0   3248  Kembang Kuning   394914        1         1     1       2     1   0   \n",
       "\n",
       "   cable_tv  ...  beachfront  building_staff       lat        lng  \\\n",
       "0         0  ...           0               0 -8.806327  115.11306   \n",
       "\n",
       "   booking_window  stay_duration_in_days  avg_rating  \\\n",
       "0              29                      2      4.5503   \n",
       "\n",
       "   avg_review_sentiment_score  rating_count  average_daily_rate  \n",
       "0                     0.73638           150           750616.14  \n",
       "\n",
       "[1 rows x 39 columns]"
      ]
     },
     "execution_count": 186,
     "metadata": {},
     "output_type": "execute_result"
    }
   ],
   "source": [
    "# Retrieve the row at index 35812\n",
    "specific_row_df = df.loc[[3248]].reset_index()\n",
    "\n",
    "# Display the DataFrame in a format similar to df.head()\n",
    "specific_row_df.head()"
   ]
  },
  {
   "cell_type": "markdown",
   "metadata": {},
   "source": [
    "### Convert Model to PKL"
   ]
  },
  {
   "cell_type": "code",
   "execution_count": 188,
   "metadata": {},
   "outputs": [
    {
     "data": {
      "text/plain": [
       "['xgboost_model.pkl']"
      ]
     },
     "execution_count": 188,
     "metadata": {},
     "output_type": "execute_result"
    }
   ],
   "source": [
    "import joblib\n",
    "\n",
    "# Save the trained model to a file\n",
    "joblib.dump(model, 'xgboost_model.pkl')"
   ]
  },
  {
   "cell_type": "markdown",
   "metadata": {},
   "source": [
    "### Load and test the model"
   ]
  },
  {
   "cell_type": "code",
   "execution_count": 189,
   "metadata": {},
   "outputs": [
    {
     "name": "stdout",
     "output_type": "stream",
     "text": [
      "Predictions: [ 562531.7   523922.03  412767.5  1909012.5   460089.8   372578.97\n",
      "  480019.75  403704.5   448567.72  975110.6 ]\n",
      "Actual Prices: 3003     3.895795e+05\n",
      "15000    5.226072e+05\n",
      "35864    3.900705e+05\n",
      "46528    1.910377e+06\n",
      "14579    5.000842e+05\n",
      "13480    3.725928e+05\n",
      "26793    4.800620e+05\n",
      "53618    2.500347e+05\n",
      "50848    3.825765e+05\n",
      "52849    9.751940e+05\n",
      "Name: average_daily_rate, dtype: float64\n"
     ]
    }
   ],
   "source": [
    "# Load the trained XGBoost model\n",
    "xgboost_model = joblib.load('xgboost_model.pkl')\n",
    "\n",
    "# Use XGBoost model to make predictions\n",
    "xgboost_predictions_test = xgboost_model.predict(X_important_test)\n",
    "\n",
    "# Now you can use these predictions in your TensorFlow code\n",
    "print(\"Predictions:\", xgboost_predictions_test[:10])\n",
    "print(\"Actual Prices:\", y_important_test[:10])"
   ]
  },
  {
   "cell_type": "markdown",
   "metadata": {},
   "source": [
    "## Data Pipeline for Prediction"
   ]
  },
  {
   "cell_type": "code",
   "execution_count": 192,
   "metadata": {},
   "outputs": [],
   "source": [
    "predicted_column = ['property_name', \n",
    "                    'room_id',\n",
    "                    'bedroom',\n",
    "                    'lat',  \n",
    "                    'guests',\n",
    "                    'parking', \n",
    "                    'beachfront',\n",
    "                    'pool',\n",
    "                    'ac',\n",
    "                    'kitchen', \n",
    "                    'tv', \n",
    "                    'hair_dryer',\n",
    "                    'washer',\n",
    "                    'booking_window',\n",
    "                    'breakfast', \n",
    "                    'stay_duration_in_days',\n",
    "                    'bathroom', \n",
    "                    'beds',\n",
    "                    'average_daily_rate']\n",
    "\n",
    "X_predicted = df[predicted_column]"
   ]
  },
  {
   "cell_type": "markdown",
   "metadata": {},
   "source": [
    "### Drop Duplicated Data"
   ]
  },
  {
   "cell_type": "code",
   "execution_count": 193,
   "metadata": {},
   "outputs": [],
   "source": [
    "distinct_data = X_predicted.drop_duplicates(subset=['property_name', 'room_id'])"
   ]
  },
  {
   "cell_type": "markdown",
   "metadata": {},
   "source": [
    "### Save Distinct Data"
   ]
  },
  {
   "cell_type": "code",
   "execution_count": 194,
   "metadata": {},
   "outputs": [],
   "source": [
    "distinct_data.to_csv('xgboost_distinct_data.csv', index=False)"
   ]
  },
  {
   "cell_type": "markdown",
   "metadata": {},
   "source": [
    "### Pipeline with existing property"
   ]
  },
  {
   "cell_type": "code",
   "execution_count": 200,
   "metadata": {},
   "outputs": [
    {
     "name": "stdout",
     "output_type": "stream",
     "text": [
      "Booking window (days): 195\n",
      "Stay duration (days): 1\n",
      "Current Price: Rp 446.768,58\n",
      "Prediction: Rp 914.532,94\n"
     ]
    }
   ],
   "source": [
    "import pandas as pd\n",
    "from datetime import date\n",
    "import joblib\n",
    "\n",
    "\n",
    "def booking_window(today, check_in):\n",
    "    return (check_in - today).days\n",
    "\n",
    "def stay_duration(check_in, check_out):\n",
    "    return (check_out - check_in).days\n",
    "\n",
    "def predict(predicted_df, property_name, room_id, check_in, check_out):\n",
    "    # Select property name and room_id\n",
    "    filtered_df = predicted_df[(predicted_df['property_name'] == property_name) & \n",
    "                              (predicted_df['room_id'] == room_id)].copy()\n",
    "    \n",
    "    if filtered_df.empty:\n",
    "        raise ValueError(\"No matching property_name and room_id found in the data\")\n",
    "    \n",
    "    # Save the current price\n",
    "    current_price = filtered_df['average_daily_rate'].values\n",
    "    \n",
    "    # Drop unnecessary columns\n",
    "    filtered_df.drop(columns=['property_name', 'room_id', 'average_daily_rate'], inplace=True)\n",
    "    \n",
    "    # Feature engineering booking window\n",
    "    today = date.today()\n",
    "    booking_window_days = booking_window(today, check_in)\n",
    "    \n",
    "    # Feature engineering stay duration\n",
    "    stay_duration_days = stay_duration(check_in, check_out)\n",
    "    \n",
    "    # Replace values in columns\n",
    "    filtered_df['stay_duration_in_days'] = stay_duration_days\n",
    "    filtered_df['booking_window'] = booking_window_days\n",
    "    \n",
    "    # print(\"Filtered DataFrame after replacing values:\\n\", filtered_df)\n",
    "    print(\"Booking window (days):\", booking_window_days)\n",
    "    print(\"Stay duration (days):\", stay_duration_days)\n",
    "    \n",
    "    # Predict\n",
    "    # xgboost_model = joblib.load('xgboost_model.pkl')\n",
    "    xgboost_model = joblib.load(os.path.join(os.getcwd(), 'xgboost_model.pkl'))\n",
    "    xgboost_predictions_test = xgboost_model.predict(filtered_df)\n",
    "    \n",
    "    return xgboost_predictions_test, current_price\n",
    "\n",
    "def format_currency(value):\n",
    "    value_str = f\"{value:,.2f}\"\n",
    "    value_str = value_str.replace(',', 'X').replace('.', ',').replace('X', '.')\n",
    "    return f\"Rp {value_str}\"\n",
    "\n",
    "# Example usage\n",
    "check_in = date(2024, 12, 24)\n",
    "check_out = date(2024, 12, 25)\n",
    "\n",
    "prediction, current_price = predict(distinct_data, 'Amazon Guesthouse', 397693, check_in, check_out)\n",
    "formatted_current_price = format_currency(current_price[0])\n",
    "formatted_prediction = format_currency(prediction[0])\n",
    "\n",
    "print(\"Current Price:\", formatted_current_price)\n",
    "print(\"Prediction:\", formatted_prediction)"
   ]
  },
  {
   "cell_type": "markdown",
   "metadata": {},
   "source": [
    "### Pipeline with new property"
   ]
  },
  {
   "cell_type": "code",
   "execution_count": 203,
   "metadata": {},
   "outputs": [
    {
     "name": "stdout",
     "output_type": "stream",
     "text": [
      "Prediction: Rp 701.037,38\n"
     ]
    }
   ],
   "source": [
    "from datetime import date\n",
    "import joblib\n",
    "\n",
    "def booking_window(today, check_in):\n",
    "    return (check_in - today).days\n",
    "\n",
    "def stay_duration(check_in, check_out):\n",
    "    return (check_out - check_in).days\n",
    "\n",
    "def predict_new_data(bedroom, \n",
    "                     lat, \n",
    "                     guests, \n",
    "                     parking, \n",
    "                     beachfront, \n",
    "                     pool, \n",
    "                     ac,\n",
    "                     kitchen, \n",
    "                     tv, \n",
    "                     hair_dryer, \n",
    "                     washer,\n",
    "                     breakfast, \n",
    "                     bathroom, \n",
    "                     beds, \n",
    "                     check_in, \n",
    "                     check_out):\n",
    "    \n",
    "    # Feature engineering booking window\n",
    "    today = date.today()\n",
    "    booking_window_days = booking_window(today, check_in)\n",
    "    \n",
    "    # Feature engineering stay duration\n",
    "    stay_duration_days = stay_duration(check_in, check_out)\n",
    "    \n",
    "    data = np.array([[bedroom, lat, guests, parking, \n",
    "                      beachfront, pool, ac, kitchen, \n",
    "                      tv, hair_dryer, washer,\n",
    "                      booking_window_days, breakfast, \n",
    "                      stay_duration_days,\n",
    "                      bathroom, beds]])\n",
    "    \n",
    "    xgboost_model = joblib.load('xgboost_model.pkl')\n",
    "    xgboost_prediction = xgboost_model.predict(data)\n",
    "    \n",
    "    return xgboost_prediction\n",
    "\n",
    "\n",
    "def format_currency(value):\n",
    "    value_str = f\"{value:,.2f}\"\n",
    "    value_str = value_str.replace(',', 'X').replace('.', ',').replace('X', '.')\n",
    "    return f\"Rp {value_str}\"\n",
    "\n",
    "\n",
    "check_in = date(2024, 12, 24)\n",
    "check_out = date(2024, 12, 25)\n",
    "\n",
    "prediction = predict_new_data(1, 0.1, 1, \n",
    "                              1, 1, 1, \n",
    "                              1, 1, 1, \n",
    "                              1, 1, 1, \n",
    "                              1, 1, check_in, check_out)\n",
    "print(\"Prediction:\", format_currency(prediction[0]))\n",
    "\n",
    "# bedroom, lat, guests, parking, \n",
    "# beachfront, pool, ac, kitchen, \n",
    "# tv, hair_dryer, washer,\n",
    "# booking_window, breakfast, \n",
    "# stay_duration_in_days,\n",
    "# bathroom, beds"
   ]
  }
 ],
 "metadata": {
  "kernelspec": {
   "display_name": "Python 3",
   "language": "python",
   "name": "python3"
  },
  "language_info": {
   "codemirror_mode": {
    "name": "ipython",
    "version": 3
   },
   "file_extension": ".py",
   "mimetype": "text/x-python",
   "name": "python",
   "nbconvert_exporter": "python",
   "pygments_lexer": "ipython3",
   "version": "3.11.2"
  }
 },
 "nbformat": 4,
 "nbformat_minor": 2
}
