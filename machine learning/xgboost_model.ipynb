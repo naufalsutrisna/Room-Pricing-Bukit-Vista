{
 "cells": [
  {
   "cell_type": "markdown",
   "metadata": {},
   "source": [
    "## Import Library"
   ]
  },
  {
   "cell_type": "code",
   "execution_count": 1,
   "metadata": {},
   "outputs": [],
   "source": [
    "import numpy as np\n",
    "import pandas as pd\n",
    "import matplotlib.pyplot as plt\n",
    "from sklearn.preprocessing import StandardScaler\n",
    "from sklearn.model_selection import train_test_split, GridSearchCV, KFold, cross_val_score\n",
    "from sklearn.metrics import mean_absolute_error, make_scorer\n",
    "from xgboost import XGBRegressor\n",
    "import os"
   ]
  },
  {
   "cell_type": "markdown",
   "metadata": {},
   "source": [
    "## Import Data"
   ]
  },
  {
   "cell_type": "markdown",
   "metadata": {},
   "source": [
    "### Define the path"
   ]
  },
  {
   "cell_type": "code",
   "execution_count": 2,
   "metadata": {},
   "outputs": [],
   "source": [
    "data_path = os.path.join(os.getcwd(), '..', '..', 'data', 'preprocessed_data.csv')"
   ]
  },
  {
   "cell_type": "markdown",
   "metadata": {},
   "source": [
    "### Read the csv"
   ]
  },
  {
   "cell_type": "code",
   "execution_count": 3,
   "metadata": {},
   "outputs": [
    {
     "data": {
      "text/html": [
       "<div>\n",
       "<style scoped>\n",
       "    .dataframe tbody tr th:only-of-type {\n",
       "        vertical-align: middle;\n",
       "    }\n",
       "\n",
       "    .dataframe tbody tr th {\n",
       "        vertical-align: top;\n",
       "    }\n",
       "\n",
       "    .dataframe thead th {\n",
       "        text-align: right;\n",
       "    }\n",
       "</style>\n",
       "<table border=\"1\" class=\"dataframe\">\n",
       "  <thead>\n",
       "    <tr style=\"text-align: right;\">\n",
       "      <th></th>\n",
       "      <th>property_name</th>\n",
       "      <th>room_id</th>\n",
       "      <th>bedroom</th>\n",
       "      <th>bathroom</th>\n",
       "      <th>beds</th>\n",
       "      <th>guests</th>\n",
       "      <th>wifi</th>\n",
       "      <th>tv</th>\n",
       "      <th>cable_tv</th>\n",
       "      <th>ac</th>\n",
       "      <th>...</th>\n",
       "      <th>beachfront</th>\n",
       "      <th>building_staff</th>\n",
       "      <th>lat</th>\n",
       "      <th>lng</th>\n",
       "      <th>distance_to_coastline</th>\n",
       "      <th>booking_window</th>\n",
       "      <th>stay_duration_in_days</th>\n",
       "      <th>review_sentiment_score</th>\n",
       "      <th>rating</th>\n",
       "      <th>average_daily_rate</th>\n",
       "    </tr>\n",
       "  </thead>\n",
       "  <tbody>\n",
       "    <tr>\n",
       "      <th>0</th>\n",
       "      <td>Bingin Ombak</td>\n",
       "      <td>431874</td>\n",
       "      <td>1</td>\n",
       "      <td>1</td>\n",
       "      <td>1</td>\n",
       "      <td>2</td>\n",
       "      <td>1</td>\n",
       "      <td>0</td>\n",
       "      <td>0</td>\n",
       "      <td>1</td>\n",
       "      <td>...</td>\n",
       "      <td>1</td>\n",
       "      <td>0</td>\n",
       "      <td>-8.805646</td>\n",
       "      <td>115.113378</td>\n",
       "      <td>15.6035</td>\n",
       "      <td>81</td>\n",
       "      <td>4</td>\n",
       "      <td>0.458603</td>\n",
       "      <td>4.0</td>\n",
       "      <td>1.477799e+06</td>\n",
       "    </tr>\n",
       "    <tr>\n",
       "      <th>1</th>\n",
       "      <td>Bingin Ombak</td>\n",
       "      <td>431875</td>\n",
       "      <td>1</td>\n",
       "      <td>1</td>\n",
       "      <td>1</td>\n",
       "      <td>2</td>\n",
       "      <td>1</td>\n",
       "      <td>0</td>\n",
       "      <td>0</td>\n",
       "      <td>1</td>\n",
       "      <td>...</td>\n",
       "      <td>1</td>\n",
       "      <td>0</td>\n",
       "      <td>-8.805646</td>\n",
       "      <td>115.113378</td>\n",
       "      <td>15.6035</td>\n",
       "      <td>81</td>\n",
       "      <td>4</td>\n",
       "      <td>0.458603</td>\n",
       "      <td>4.0</td>\n",
       "      <td>1.477799e+06</td>\n",
       "    </tr>\n",
       "    <tr>\n",
       "      <th>2</th>\n",
       "      <td>Bingin Ombak</td>\n",
       "      <td>396658</td>\n",
       "      <td>1</td>\n",
       "      <td>1</td>\n",
       "      <td>1</td>\n",
       "      <td>2</td>\n",
       "      <td>1</td>\n",
       "      <td>0</td>\n",
       "      <td>0</td>\n",
       "      <td>1</td>\n",
       "      <td>...</td>\n",
       "      <td>1</td>\n",
       "      <td>0</td>\n",
       "      <td>-8.805646</td>\n",
       "      <td>115.113378</td>\n",
       "      <td>15.6035</td>\n",
       "      <td>81</td>\n",
       "      <td>4</td>\n",
       "      <td>0.458603</td>\n",
       "      <td>4.0</td>\n",
       "      <td>1.477799e+06</td>\n",
       "    </tr>\n",
       "    <tr>\n",
       "      <th>3</th>\n",
       "      <td>Bingin Ombak</td>\n",
       "      <td>396427</td>\n",
       "      <td>1</td>\n",
       "      <td>2</td>\n",
       "      <td>1</td>\n",
       "      <td>2</td>\n",
       "      <td>1</td>\n",
       "      <td>0</td>\n",
       "      <td>0</td>\n",
       "      <td>0</td>\n",
       "      <td>...</td>\n",
       "      <td>1</td>\n",
       "      <td>0</td>\n",
       "      <td>-8.805646</td>\n",
       "      <td>115.113378</td>\n",
       "      <td>15.6035</td>\n",
       "      <td>81</td>\n",
       "      <td>4</td>\n",
       "      <td>0.455450</td>\n",
       "      <td>4.0</td>\n",
       "      <td>1.477799e+06</td>\n",
       "    </tr>\n",
       "    <tr>\n",
       "      <th>4</th>\n",
       "      <td>Bingin Ombak</td>\n",
       "      <td>396427</td>\n",
       "      <td>1</td>\n",
       "      <td>2</td>\n",
       "      <td>1</td>\n",
       "      <td>2</td>\n",
       "      <td>1</td>\n",
       "      <td>0</td>\n",
       "      <td>0</td>\n",
       "      <td>0</td>\n",
       "      <td>...</td>\n",
       "      <td>1</td>\n",
       "      <td>0</td>\n",
       "      <td>-8.805646</td>\n",
       "      <td>115.113378</td>\n",
       "      <td>15.6035</td>\n",
       "      <td>81</td>\n",
       "      <td>4</td>\n",
       "      <td>0.455450</td>\n",
       "      <td>4.0</td>\n",
       "      <td>1.477799e+06</td>\n",
       "    </tr>\n",
       "  </tbody>\n",
       "</table>\n",
       "<p>5 rows × 38 columns</p>\n",
       "</div>"
      ],
      "text/plain": [
       "  property_name  room_id  bedroom  bathroom  beds  guests  wifi  tv  cable_tv  \\\n",
       "0  Bingin Ombak   431874        1         1     1       2     1   0         0   \n",
       "1  Bingin Ombak   431875        1         1     1       2     1   0         0   \n",
       "2  Bingin Ombak   396658        1         1     1       2     1   0         0   \n",
       "3  Bingin Ombak   396427        1         2     1       2     1   0         0   \n",
       "4  Bingin Ombak   396427        1         2     1       2     1   0         0   \n",
       "\n",
       "   ac  ...  beachfront  building_staff       lat         lng  \\\n",
       "0   1  ...           1               0 -8.805646  115.113378   \n",
       "1   1  ...           1               0 -8.805646  115.113378   \n",
       "2   1  ...           1               0 -8.805646  115.113378   \n",
       "3   0  ...           1               0 -8.805646  115.113378   \n",
       "4   0  ...           1               0 -8.805646  115.113378   \n",
       "\n",
       "   distance_to_coastline  booking_window  stay_duration_in_days  \\\n",
       "0                15.6035              81                      4   \n",
       "1                15.6035              81                      4   \n",
       "2                15.6035              81                      4   \n",
       "3                15.6035              81                      4   \n",
       "4                15.6035              81                      4   \n",
       "\n",
       "   review_sentiment_score  rating  average_daily_rate  \n",
       "0                0.458603     4.0        1.477799e+06  \n",
       "1                0.458603     4.0        1.477799e+06  \n",
       "2                0.458603     4.0        1.477799e+06  \n",
       "3                0.455450     4.0        1.477799e+06  \n",
       "4                0.455450     4.0        1.477799e+06  \n",
       "\n",
       "[5 rows x 38 columns]"
      ]
     },
     "execution_count": 3,
     "metadata": {},
     "output_type": "execute_result"
    }
   ],
   "source": [
    "df = pd.read_csv(data_path)\n",
    "df.head()"
   ]
  },
  {
   "cell_type": "markdown",
   "metadata": {},
   "source": [
    "### Separate features and target variable"
   ]
  },
  {
   "cell_type": "code",
   "execution_count": 4,
   "metadata": {},
   "outputs": [],
   "source": [
    "X = df.drop(columns=['property_name', 'room_id', 'average_daily_rate'])\n",
    "y = df['average_daily_rate']"
   ]
  },
  {
   "cell_type": "markdown",
   "metadata": {},
   "source": [
    "### Normalize the features"
   ]
  },
  {
   "cell_type": "code",
   "execution_count": 5,
   "metadata": {},
   "outputs": [],
   "source": [
    "scaler = StandardScaler()\n",
    "X_scaled = scaler.fit_transform(X)"
   ]
  },
  {
   "cell_type": "markdown",
   "metadata": {},
   "source": [
    "### Split the normalized data into training and testing sets"
   ]
  },
  {
   "cell_type": "code",
   "execution_count": 6,
   "metadata": {},
   "outputs": [],
   "source": [
    "X_train, X_test, y_train, y_test = train_test_split(X_scaled, y, test_size=0.2, random_state=42)"
   ]
  },
  {
   "cell_type": "markdown",
   "metadata": {},
   "source": [
    "### Create XGBoost Model"
   ]
  },
  {
   "cell_type": "code",
   "execution_count": 7,
   "metadata": {},
   "outputs": [
    {
     "name": "stdout",
     "output_type": "stream",
     "text": [
      "Mean Absolute Error on Training: 9499.505091333516\n",
      "Mean Absolute Error on Testing: 20455.914886023427\n"
     ]
    }
   ],
   "source": [
    "# Initialize the XGBoost model\n",
    "model = XGBRegressor(max_depth=11, n_estimators=1000, random_state=42)\n",
    "\n",
    "# Fit the model on the training data\n",
    "model.fit(X_train, y_train)\n",
    "\n",
    "# Make predictions on the test data\n",
    "y_pred_train = model.predict(X_train)\n",
    "y_pred_test = model.predict(X_test)\n",
    "\n",
    "# Evaluate the model\n",
    "training_mae = mean_absolute_error(y_train, y_pred_train)\n",
    "print(f'Mean Absolute Error on Training: {training_mae}')\n",
    "\n",
    "testing_mae = mean_absolute_error(y_test, y_pred_test)\n",
    "print(f'Mean Absolute Error on Testing: {testing_mae}')"
   ]
  },
  {
   "cell_type": "markdown",
   "metadata": {},
   "source": [
    "### Tuned The Hyperparameter"
   ]
  },
  {
   "cell_type": "code",
   "execution_count": 8,
   "metadata": {},
   "outputs": [
    {
     "name": "stdout",
     "output_type": "stream",
     "text": [
      "Fitting 5 folds for each of 27 candidates, totalling 135 fits\n",
      "[CV] END ...learning_rate=0.3, max_depth=9, n_estimators=500; total time=  20.3s\n",
      "[CV] END ...learning_rate=0.3, max_depth=9, n_estimators=500; total time=  20.4s\n",
      "[CV] END ...learning_rate=0.3, max_depth=9, n_estimators=500; total time=  20.5s\n",
      "[CV] END ...learning_rate=0.3, max_depth=9, n_estimators=500; total time=  20.7s\n",
      "[CV] END ...learning_rate=0.3, max_depth=9, n_estimators=500; total time=  23.8s\n",
      "[CV] END ..learning_rate=0.3, max_depth=9, n_estimators=1000; total time=  46.5s\n",
      "[CV] END ..learning_rate=0.3, max_depth=9, n_estimators=1000; total time=  46.6s\n",
      "[CV] END ..learning_rate=0.3, max_depth=9, n_estimators=1000; total time=  46.7s\n",
      "[CV] END ..learning_rate=0.3, max_depth=9, n_estimators=1000; total time=  38.6s\n",
      "[CV] END ..learning_rate=0.3, max_depth=9, n_estimators=1000; total time=  32.0s\n",
      "[CV] END ..learning_rate=0.3, max_depth=9, n_estimators=2000; total time= 1.1min\n",
      "[CV] END ..learning_rate=0.3, max_depth=9, n_estimators=2000; total time= 1.1min\n",
      "[CV] END ..learning_rate=0.3, max_depth=9, n_estimators=2000; total time= 1.1min\n",
      "[CV] END ..learning_rate=0.3, max_depth=10, n_estimators=500; total time=  22.3s\n",
      "[CV] END ..learning_rate=0.3, max_depth=9, n_estimators=2000; total time= 1.1min\n",
      "[CV] END ..learning_rate=0.3, max_depth=10, n_estimators=500; total time=  21.8s\n",
      "[CV] END ..learning_rate=0.3, max_depth=10, n_estimators=500; total time=  20.6s\n",
      "[CV] END ..learning_rate=0.3, max_depth=10, n_estimators=500; total time=  21.4s\n",
      "[CV] END ..learning_rate=0.3, max_depth=10, n_estimators=500; total time=  24.0s\n",
      "[CV] END ..learning_rate=0.3, max_depth=9, n_estimators=2000; total time= 1.1min\n",
      "[CV] END .learning_rate=0.3, max_depth=10, n_estimators=1000; total time=  46.0s\n",
      "[CV] END .learning_rate=0.3, max_depth=10, n_estimators=1000; total time=  53.2s\n",
      "[CV] END .learning_rate=0.3, max_depth=10, n_estimators=1000; total time=  57.9s\n",
      "[CV] END .learning_rate=0.3, max_depth=10, n_estimators=1000; total time=  58.6s\n",
      "[CV] END .learning_rate=0.3, max_depth=10, n_estimators=1000; total time=  58.2s\n",
      "[CV] END .learning_rate=0.3, max_depth=10, n_estimators=2000; total time= 1.9min\n",
      "[CV] END .learning_rate=0.3, max_depth=10, n_estimators=2000; total time= 1.8min\n",
      "[CV] END .learning_rate=0.3, max_depth=10, n_estimators=2000; total time= 1.8min\n",
      "[CV] END .learning_rate=0.3, max_depth=10, n_estimators=2000; total time= 1.8min\n",
      "[CV] END ..learning_rate=0.3, max_depth=11, n_estimators=500; total time=  29.8s\n",
      "[CV] END ..learning_rate=0.3, max_depth=11, n_estimators=500; total time=  30.2s\n",
      "[CV] END ..learning_rate=0.3, max_depth=11, n_estimators=500; total time=  31.4s\n",
      "[CV] END ..learning_rate=0.3, max_depth=11, n_estimators=500; total time=  32.1s\n",
      "[CV] END ..learning_rate=0.3, max_depth=11, n_estimators=500; total time=  34.2s\n",
      "[CV] END .learning_rate=0.3, max_depth=10, n_estimators=2000; total time= 1.7min\n",
      "[CV] END .learning_rate=0.3, max_depth=11, n_estimators=1000; total time= 1.2min\n",
      "[CV] END .learning_rate=0.3, max_depth=11, n_estimators=1000; total time= 1.2min\n",
      "[CV] END .learning_rate=0.3, max_depth=11, n_estimators=1000; total time= 1.2min\n",
      "[CV] END .learning_rate=0.3, max_depth=11, n_estimators=1000; total time= 1.1min\n",
      "[CV] END .learning_rate=0.3, max_depth=11, n_estimators=1000; total time=  59.4s\n",
      "[CV] END .learning_rate=0.3, max_depth=11, n_estimators=2000; total time= 1.7min\n",
      "[CV] END .learning_rate=0.3, max_depth=11, n_estimators=2000; total time= 1.7min\n",
      "[CV] END ...learning_rate=0.4, max_depth=9, n_estimators=500; total time=  19.6s\n",
      "[CV] END .learning_rate=0.3, max_depth=11, n_estimators=2000; total time= 1.7min\n",
      "[CV] END ...learning_rate=0.4, max_depth=9, n_estimators=500; total time=  17.8s\n",
      "[CV] END ...learning_rate=0.4, max_depth=9, n_estimators=500; total time=  16.5s\n",
      "[CV] END .learning_rate=0.3, max_depth=11, n_estimators=2000; total time= 1.7min\n",
      "[CV] END ...learning_rate=0.4, max_depth=9, n_estimators=500; total time=  14.1s\n",
      "[CV] END ...learning_rate=0.4, max_depth=9, n_estimators=500; total time=  14.2s\n",
      "[CV] END ..learning_rate=0.4, max_depth=9, n_estimators=1000; total time=  28.4s\n",
      "[CV] END ..learning_rate=0.4, max_depth=9, n_estimators=1000; total time=  28.3s\n",
      "[CV] END ..learning_rate=0.4, max_depth=9, n_estimators=1000; total time=  27.9s\n",
      "[CV] END .learning_rate=0.3, max_depth=11, n_estimators=2000; total time= 1.6min\n",
      "[CV] END ..learning_rate=0.4, max_depth=9, n_estimators=1000; total time=  27.9s\n",
      "[CV] END ..learning_rate=0.4, max_depth=9, n_estimators=1000; total time=  28.7s\n",
      "[CV] END ..learning_rate=0.4, max_depth=9, n_estimators=2000; total time= 1.0min\n",
      "[CV] END ..learning_rate=0.4, max_depth=9, n_estimators=2000; total time= 1.0min\n",
      "[CV] END ..learning_rate=0.4, max_depth=9, n_estimators=2000; total time= 1.0min\n",
      "[CV] END ..learning_rate=0.4, max_depth=9, n_estimators=2000; total time= 1.0min\n",
      "[CV] END ..learning_rate=0.4, max_depth=10, n_estimators=500; total time=  18.9s\n",
      "[CV] END ..learning_rate=0.4, max_depth=10, n_estimators=500; total time=  20.2s\n",
      "[CV] END ..learning_rate=0.4, max_depth=10, n_estimators=500; total time=  20.1s\n",
      "[CV] END ..learning_rate=0.4, max_depth=10, n_estimators=500; total time=  19.8s\n",
      "[CV] END ..learning_rate=0.4, max_depth=9, n_estimators=2000; total time=  57.8s\n",
      "[CV] END ..learning_rate=0.4, max_depth=10, n_estimators=500; total time=  18.2s\n",
      "[CV] END .learning_rate=0.4, max_depth=10, n_estimators=1000; total time=  38.2s\n",
      "[CV] END .learning_rate=0.4, max_depth=10, n_estimators=1000; total time=  41.6s\n",
      "[CV] END .learning_rate=0.4, max_depth=10, n_estimators=1000; total time=  42.3s\n",
      "[CV] END .learning_rate=0.4, max_depth=10, n_estimators=1000; total time=  42.8s\n",
      "[CV] END .learning_rate=0.4, max_depth=10, n_estimators=1000; total time=  51.8s\n",
      "[CV] END .learning_rate=0.4, max_depth=10, n_estimators=2000; total time= 1.6min\n",
      "[CV] END .learning_rate=0.4, max_depth=10, n_estimators=2000; total time= 1.6min\n",
      "[CV] END .learning_rate=0.4, max_depth=10, n_estimators=2000; total time= 1.7min\n",
      "[CV] END ..learning_rate=0.4, max_depth=11, n_estimators=500; total time=  31.9s\n",
      "[CV] END .learning_rate=0.4, max_depth=10, n_estimators=2000; total time= 1.6min\n",
      "[CV] END ..learning_rate=0.4, max_depth=11, n_estimators=500; total time=  28.1s\n",
      "[CV] END ..learning_rate=0.4, max_depth=11, n_estimators=500; total time=  48.3s\n",
      "[CV] END ..learning_rate=0.4, max_depth=11, n_estimators=500; total time=  47.3s\n",
      "[CV] END ..learning_rate=0.4, max_depth=11, n_estimators=500; total time=  49.7s\n",
      "[CV] END .learning_rate=0.4, max_depth=10, n_estimators=2000; total time= 1.9min\n",
      "[CV] END .learning_rate=0.4, max_depth=11, n_estimators=1000; total time=  55.6s\n",
      "[CV] END .learning_rate=0.4, max_depth=11, n_estimators=1000; total time=  55.6s\n",
      "[CV] END .learning_rate=0.4, max_depth=11, n_estimators=1000; total time=  50.7s\n",
      "[CV] END .learning_rate=0.4, max_depth=11, n_estimators=1000; total time=  42.6s\n",
      "[CV] END .learning_rate=0.4, max_depth=11, n_estimators=1000; total time=  45.0s\n",
      "[CV] END .learning_rate=0.4, max_depth=11, n_estimators=2000; total time= 1.2min\n",
      "[CV] END .learning_rate=0.4, max_depth=11, n_estimators=2000; total time= 1.3min\n",
      "[CV] END .learning_rate=0.4, max_depth=11, n_estimators=2000; total time= 1.3min\n",
      "[CV] END ...learning_rate=0.5, max_depth=9, n_estimators=500; total time=  14.1s\n",
      "[CV] END ...learning_rate=0.5, max_depth=9, n_estimators=500; total time=  16.6s\n",
      "[CV] END ...learning_rate=0.5, max_depth=9, n_estimators=500; total time=  17.3s\n",
      "[CV] END ...learning_rate=0.5, max_depth=9, n_estimators=500; total time=  15.0s\n",
      "[CV] END .learning_rate=0.4, max_depth=11, n_estimators=2000; total time= 1.4min\n",
      "[CV] END ...learning_rate=0.5, max_depth=9, n_estimators=500; total time=  15.1s\n",
      "[CV] END ..learning_rate=0.5, max_depth=9, n_estimators=1000; total time=  30.3s\n",
      "[CV] END .learning_rate=0.4, max_depth=11, n_estimators=2000; total time= 1.4min\n",
      "[CV] END ..learning_rate=0.5, max_depth=9, n_estimators=1000; total time=  35.9s\n",
      "[CV] END ..learning_rate=0.5, max_depth=9, n_estimators=1000; total time=  36.3s\n",
      "[CV] END ..learning_rate=0.5, max_depth=9, n_estimators=1000; total time=  29.4s\n",
      "[CV] END ..learning_rate=0.5, max_depth=9, n_estimators=1000; total time=  29.3s\n",
      "[CV] END ..learning_rate=0.5, max_depth=9, n_estimators=2000; total time=  58.4s\n",
      "[CV] END ..learning_rate=0.5, max_depth=9, n_estimators=2000; total time=  59.0s\n",
      "[CV] END ..learning_rate=0.5, max_depth=10, n_estimators=500; total time=  19.0s\n",
      "[CV] END ..learning_rate=0.5, max_depth=9, n_estimators=2000; total time=  56.6s\n",
      "[CV] END ..learning_rate=0.5, max_depth=9, n_estimators=2000; total time= 1.2min\n",
      "[CV] END ..learning_rate=0.5, max_depth=10, n_estimators=500; total time=  20.6s\n",
      "[CV] END ..learning_rate=0.5, max_depth=10, n_estimators=500; total time=  21.0s\n",
      "[CV] END ..learning_rate=0.5, max_depth=10, n_estimators=500; total time=  20.6s\n",
      "[CV] END ..learning_rate=0.5, max_depth=9, n_estimators=2000; total time=  58.6s\n",
      "[CV] END ..learning_rate=0.5, max_depth=10, n_estimators=500; total time=  19.0s\n",
      "[CV] END .learning_rate=0.5, max_depth=10, n_estimators=1000; total time=  40.3s\n",
      "[CV] END .learning_rate=0.5, max_depth=10, n_estimators=1000; total time=  40.6s\n",
      "[CV] END .learning_rate=0.5, max_depth=10, n_estimators=1000; total time=  40.5s\n",
      "[CV] END .learning_rate=0.5, max_depth=10, n_estimators=1000; total time=  40.2s\n",
      "[CV] END .learning_rate=0.5, max_depth=10, n_estimators=1000; total time=  38.4s\n",
      "[CV] END .learning_rate=0.5, max_depth=10, n_estimators=2000; total time= 1.3min\n",
      "[CV] END .learning_rate=0.5, max_depth=10, n_estimators=2000; total time= 1.3min\n",
      "[CV] END .learning_rate=0.5, max_depth=10, n_estimators=2000; total time= 1.5min\n",
      "[CV] END .learning_rate=0.5, max_depth=10, n_estimators=2000; total time= 1.3min\n",
      "[CV] END ..learning_rate=0.5, max_depth=11, n_estimators=500; total time=  27.5s\n",
      "[CV] END ..learning_rate=0.5, max_depth=11, n_estimators=500; total time=  25.2s\n",
      "[CV] END ..learning_rate=0.5, max_depth=11, n_estimators=500; total time=  23.6s\n",
      "[CV] END ..learning_rate=0.5, max_depth=11, n_estimators=500; total time=  22.8s\n",
      "[CV] END ..learning_rate=0.5, max_depth=11, n_estimators=500; total time=  23.1s\n",
      "[CV] END .learning_rate=0.5, max_depth=10, n_estimators=2000; total time= 1.2min\n",
      "[CV] END .learning_rate=0.5, max_depth=11, n_estimators=1000; total time=  44.5s\n",
      "[CV] END .learning_rate=0.5, max_depth=11, n_estimators=1000; total time=  45.6s\n",
      "[CV] END .learning_rate=0.5, max_depth=11, n_estimators=1000; total time=  44.9s\n",
      "[CV] END .learning_rate=0.5, max_depth=11, n_estimators=1000; total time=  45.5s\n",
      "[CV] END .learning_rate=0.5, max_depth=11, n_estimators=1000; total time=  46.7s\n",
      "[CV] END .learning_rate=0.5, max_depth=11, n_estimators=2000; total time= 1.2min\n",
      "[CV] END .learning_rate=0.5, max_depth=11, n_estimators=2000; total time= 1.2min\n",
      "[CV] END .learning_rate=0.5, max_depth=11, n_estimators=2000; total time= 2.0min\n",
      "[CV] END .learning_rate=0.5, max_depth=11, n_estimators=2000; total time= 2.0min\n",
      "[CV] END .learning_rate=0.5, max_depth=11, n_estimators=2000; total time= 1.8min\n",
      "Best Parameters: {'learning_rate': 0.3, 'max_depth': 9, 'n_estimators': 2000}\n",
      "Best Mean Absolute Error: 22463.85138525166\n"
     ]
    }
   ],
   "source": [
    "# Define the model\n",
    "tuned_model = XGBRegressor(random_state=42)\n",
    "\n",
    "# Define the parameter grid\n",
    "param_grid = {\n",
    "    'n_estimators': [500, 1000, 2000],\n",
    "    'learning_rate': [0.3, 0.4, 0.5],\n",
    "    'max_depth': [9, 10, 11]\n",
    "}\n",
    "\n",
    "# Set up the Grid Search\n",
    "grid_search = GridSearchCV(estimator=tuned_model, \n",
    "                           param_grid=param_grid, \n",
    "                           scoring='neg_mean_absolute_error', \n",
    "                           cv=5, \n",
    "                           verbose=2, \n",
    "                           n_jobs=-1)\n",
    "\n",
    "# Fit the Grid Search\n",
    "grid_search.fit(X_train, y_train)\n",
    "\n",
    "# Get the best parameters and best score\n",
    "best_params = grid_search.best_params_\n",
    "best_score = grid_search.best_score_\n",
    "\n",
    "print(f'Best Parameters: {best_params}')\n",
    "print(f'Best Mean Absolute Error: {-best_score}')\n"
   ]
  },
  {
   "cell_type": "markdown",
   "metadata": {},
   "source": [
    "### Cross Validation"
   ]
  },
  {
   "cell_type": "code",
   "execution_count": 9,
   "metadata": {},
   "outputs": [
    {
     "name": "stdout",
     "output_type": "stream",
     "text": [
      "Cross-Validation MAE Scores: [23477.19916732 22825.35299622 23403.963452   22851.21897829\n",
      " 22979.6132166 ]\n",
      "Mean Cross-Validation MAE: 23107.46956208538\n",
      "Mean Absolute Error on Testing: 20090.440551859603\n"
     ]
    }
   ],
   "source": [
    "# Define your XGBoost model\n",
    "model = XGBRegressor(learning_rate=0.3, max_depth=9, n_estimators=2000, random_state=42)\n",
    "\n",
    "# Define the k-fold cross-validation scheme\n",
    "kf = KFold(n_splits=5, shuffle=True, random_state=42)\n",
    "\n",
    "# Define the scoring function\n",
    "scorer = make_scorer(mean_absolute_error, greater_is_better=False)\n",
    "\n",
    "# Perform cross-validation and get scores\n",
    "cv_scores = cross_val_score(model, X_train, y_train, cv=kf, scoring=scorer)\n",
    "\n",
    "# Convert negative MAE to positive since we used greater_is_better=False\n",
    "cv_scores = -cv_scores\n",
    "\n",
    "# Print the cross-validation scores and their mean\n",
    "print(f'Cross-Validation MAE Scores: {cv_scores}')\n",
    "print(f'Mean Cross-Validation MAE: {np.mean(cv_scores)}')\n",
    "\n",
    "# Fit the model on the entire training data\n",
    "model.fit(X_train, y_train)\n",
    "\n",
    "# Make predictions on the test data\n",
    "y_pred_test = model.predict(X_test)\n",
    "\n",
    "# Evaluate the model on the test data\n",
    "testing_mae = mean_absolute_error(y_test, y_pred_test)\n",
    "print(f'Mean Absolute Error on Testing: {testing_mae}')"
   ]
  },
  {
   "cell_type": "markdown",
   "metadata": {},
   "source": [
    "### Feature Important"
   ]
  },
  {
   "cell_type": "code",
   "execution_count": 10,
   "metadata": {},
   "outputs": [
    {
     "data": {
      "image/png": "[encoded data removed]",
      "text/plain": [
       "<Figure size 1000x600 with 1 Axes>"
      ]
     },
     "metadata": {},
     "output_type": "display_data"
    },
    {
     "name": "stdout",
     "output_type": "stream",
     "text": [
      "Mean Absolute Error: 20090.440551859603\n"
     ]
    }
   ],
   "source": [
    "import matplotlib.pyplot as plt\n",
    "\n",
    "# Initialize a new XGBoost model with the best hyperparameters\n",
    "best_model = XGBRegressor(learning_rate=0.3, max_depth=9, n_estimators=2000, random_state=42)\n",
    "\n",
    "# Train the model on the entire training dataset with the best hyperparameters\n",
    "best_model.fit(X_train, y_train)\n",
    "\n",
    "# Get feature importances from the best model\n",
    "feature_importances = best_model.feature_importances_\n",
    "\n",
    "# Create a DataFrame to store feature importances with corresponding column names\n",
    "fi_df = pd.DataFrame({'Feature': X.columns, 'Importance': feature_importances})\n",
    "\n",
    "# Sort the DataFrame by feature importance values\n",
    "fi_df = fi_df.sort_values(by='Importance', ascending=True)\n",
    "\n",
    "# Plot feature importances\n",
    "plt.figure(figsize=(10, 6))\n",
    "plt.barh(fi_df['Feature'], fi_df['Importance'])\n",
    "plt.xlabel('Feature Importance')\n",
    "plt.ylabel('Feature')\n",
    "plt.title('Feature Importance Plot')\n",
    "plt.show()\n",
    "\n",
    "# Make predictions on the test set using the best model\n",
    "y_pred = best_model.predict(X_test)\n",
    "\n",
    "# Calculate Mean Absolute Error (MAE)\n",
    "mae = mean_absolute_error(y_test, y_pred)\n",
    "print(\"Mean Absolute Error:\", mae)"
   ]
  },
  {
   "cell_type": "markdown",
   "metadata": {},
   "source": [
    "### Predict with Feature Important "
   ]
  },
  {
   "cell_type": "code",
   "execution_count": 11,
   "metadata": {},
   "outputs": [],
   "source": [
    "important_column = ['bedroom', 'lat', 'guests',\n",
    "                    'parking', 'distance_to_coastline',\n",
    "                    'tv', 'pool', 'hair_dryer', 'lng',\n",
    "                    'breakfast',\n",
    "                    'review_sentiment_score',\n",
    "                    'booking_window',\n",
    "                    'rating',\n",
    "                    'stay_duration_in_days', 'kitchen']\n",
    "\n",
    "X_important = df[important_column]\n",
    "y_important = df['average_daily_rate']"
   ]
  },
  {
   "cell_type": "code",
   "execution_count": 12,
   "metadata": {},
   "outputs": [],
   "source": [
    "scaler = StandardScaler()\n",
    "X_important_scaled = scaler.fit_transform(X_important)"
   ]
  },
  {
   "cell_type": "code",
   "execution_count": 13,
   "metadata": {},
   "outputs": [],
   "source": [
    "X_important_train, X_important_test, y_important_train, y_important_test = train_test_split(X_important_scaled, y_important, test_size=0.2, random_state=42)"
   ]
  },
  {
   "cell_type": "code",
   "execution_count": 14,
   "metadata": {},
   "outputs": [
    {
     "name": "stdout",
     "output_type": "stream",
     "text": [
      "Mean Absolute Error on Training: 9799.969056202357\n",
      "Mean Absolute Error on Testing: 17287.371642884897\n"
     ]
    }
   ],
   "source": [
    "# Initialize the XGBoost model\n",
    "model = XGBRegressor(learning_rate=0.3, max_depth=9, n_estimators=2000, random_state=42)\n",
    "\n",
    "# Fit the model on the training data\n",
    "model.fit(X_important_train, y_important_train)\n",
    "\n",
    "# Make predictions on the test data\n",
    "y_pred_important_train = model.predict(X_important_train)\n",
    "y_pred_important_test = model.predict(X_important_test)\n",
    "\n",
    "# Evaluate the model\n",
    "training_important_mae = mean_absolute_error(y_important_train, y_pred_important_train)\n",
    "print(f'Mean Absolute Error on Training: {training_important_mae}')\n",
    "\n",
    "testing_important_mae = mean_absolute_error(y_important_test, y_pred_important_test)\n",
    "print(f'Mean Absolute Error on Testing: {testing_important_mae}')"
   ]
  },
  {
   "cell_type": "markdown",
   "metadata": {},
   "source": [
    "### Convert Model to PKL"
   ]
  },
  {
   "cell_type": "code",
   "execution_count": 15,
   "metadata": {},
   "outputs": [
    {
     "data": {
      "text/plain": [
       "['xgboost_model.pkl']"
      ]
     },
     "execution_count": 15,
     "metadata": {},
     "output_type": "execute_result"
    }
   ],
   "source": [
    "import joblib\n",
    "\n",
    "# Save the trained model to a file\n",
    "joblib.dump(model, 'xgboost_model.pkl')"
   ]
  },
  {
   "cell_type": "markdown",
   "metadata": {},
   "source": [
    "### Load and test the model"
   ]
  },
  {
   "cell_type": "code",
   "execution_count": 17,
   "metadata": {},
   "outputs": [
    {
     "name": "stdout",
     "output_type": "stream",
     "text": [
      "[462077.4  540067.44 360076.78 620437.7  506752.78 559206.56 395427.3\n",
      " 440055.   620083.   620130.25]\n"
     ]
    }
   ],
   "source": [
    "# Load the trained XGBoost model\n",
    "xgboost_model = joblib.load('xgboost_model.pkl')\n",
    "\n",
    "# Use XGBoost model to make predictions\n",
    "xgboost_predictions_test = xgboost_model.predict(X_important_test)\n",
    "\n",
    "# Now you can use these predictions in your TensorFlow code\n",
    "print(xgboost_predictions_test[:10])"
   ]
  },
  {
   "cell_type": "markdown",
   "metadata": {},
   "source": [
    "## Data Pipeline for Prediction"
   ]
  },
  {
   "cell_type": "code",
   "execution_count": 23,
   "metadata": {},
   "outputs": [],
   "source": [
    "predicted_column = ['property_name', 'room_id', \n",
    "                    'bedroom', 'lat', 'guests',\n",
    "                    'parking', 'distance_to_coastline',\n",
    "                    'tv', 'pool', 'hair_dryer', 'lng',\n",
    "                    'breakfast',\n",
    "                    'review_sentiment_score',\n",
    "                    'booking_window',\n",
    "                    'rating',\n",
    "                    'stay_duration_in_days', 'kitchen',\n",
    "                    'average_daily_rate']\n",
    "\n",
    "X_predicted = df[predicted_column]"
   ]
  },
  {
   "cell_type": "code",
   "execution_count": 26,
   "metadata": {},
   "outputs": [
    {
     "name": "stdout",
     "output_type": "stream",
     "text": [
      "Prediction: [685065.8]\n"
     ]
    }
   ],
   "source": [
    "import pandas as pd\n",
    "from datetime import date\n",
    "import joblib\n",
    "\n",
    "def get_distinct_properties(df):\n",
    "    return df.drop_duplicates(subset=['property_name', 'room_id'])\n",
    "\n",
    "def booking_window(today, check_in):\n",
    "    return (check_in - today).days\n",
    "\n",
    "def stay_duration(check_in, check_out):\n",
    "    return (check_out - check_in).days\n",
    "\n",
    "def predict(predicted_df, property_name, room_id, check_in, check_out):\n",
    "    # Select property name dan room_id\n",
    "    distinct_df = get_distinct_properties(predicted_df)\n",
    "    \n",
    "    # Select property name and room_id\n",
    "    filtered_df = distinct_df[(distinct_df['property_name'] == property_name) & \n",
    "                              (distinct_df['room_id'] == room_id)].copy()\n",
    "    \n",
    "    if filtered_df.empty:\n",
    "        raise ValueError(\"No matching property_name and room_id found in the data\")\n",
    "    \n",
    "    # print(filtered_df['average_daily_rate'])\n",
    "    \n",
    "    # Drop unnecessary columns\n",
    "    filtered_df.drop(columns=['property_name', 'room_id', 'average_daily_rate'], inplace=True)\n",
    "    \n",
    "    # Feature engineering booking window\n",
    "    today = date.today()\n",
    "    booking_window_days = booking_window(today, check_in)\n",
    "    \n",
    "    # Feature engineering stay duration\n",
    "    stay_duration_days = stay_duration(check_in, check_out)\n",
    "    \n",
    "    # Replace values in columns\n",
    "    filtered_df['stay_duration_in_days'] = stay_duration_days\n",
    "    filtered_df['booking_window'] = booking_window_days\n",
    "    \n",
    "    # print(\"Filtered DataFrame after replacing values:\\n\", filtered_df)\n",
    "    # print(\"Booking window (days):\", booking_window_days)\n",
    "    # print(\"Stay duration (days):\", stay_duration_days)\n",
    "    \n",
    "    # Predict\n",
    "    xgboost_model = joblib.load('xgboost_model.pkl')\n",
    "    xgboost_predictions_test = xgboost_model.predict(filtered_df)\n",
    "    \n",
    "    return xgboost_predictions_test\n",
    "\n",
    "# Example usage\n",
    "check_in = date(2024, 12, 31)\n",
    "check_out = date(2025, 1, 1)\n",
    "\n",
    "prediction = predict(X_predicted, 'Bingin Ombak', 431874, check_in, check_out)\n",
    "print(\"Prediction:\", prediction)"
   ]
  }
 ],
 "metadata": {
  "kernelspec": {
   "display_name": "Python 3",
   "language": "python",
   "name": "python3"
  },
  "language_info": {
   "codemirror_mode": {
    "name": "ipython",
    "version": 3
   },
   "file_extension": ".py",
   "mimetype": "text/x-python",
   "name": "python",
   "nbconvert_exporter": "python",
   "pygments_lexer": "ipython3",
   "version": "3.11.2"
  }
 },
 "nbformat": 4,
 "nbformat_minor": 2
}
