{
 "cells": [
  {
   "cell_type": "markdown",
   "metadata": {},
   "source": [
    "# Import Library yang Digunakan"
   ]
  },
  {
   "cell_type": "code",
   "execution_count": null,
   "metadata": {},
   "outputs": [],
   "source": [
    "import numpy as np\n",
    "import pandas as pd\n",
    "import seaborn as sns\n",
    "import matplotlib.pyplot as plt\n",
    "import os"
   ]
  },
  {
   "cell_type": "markdown",
   "metadata": {},
   "source": [
    "# Data Wrangling"
   ]
  },
  {
   "cell_type": "markdown",
   "metadata": {},
   "source": [
    "## Gathering Data"
   ]
  },
  {
   "cell_type": "code",
   "execution_count": null,
   "metadata": {},
   "outputs": [],
   "source": [
    "raw_data_path = os.path.join(os.getcwd(), '..', '..', 'data', 'raw_data.csv')"
   ]
  },
  {
   "cell_type": "code",
   "execution_count": null,
   "metadata": {},
   "outputs": [],
   "source": [
    "df = pd.read_csv(raw_data_path)\n",
    "df.head()"
   ]
  },
  {
   "cell_type": "code",
   "execution_count": null,
   "metadata": {},
   "outputs": [],
   "source": [
    "print(\"Dataset Bukit Vista memiliki {} baris dan {} kolom\".format(df.shape[0], df.shape[1]))"
   ]
  },
  {
   "cell_type": "markdown",
   "metadata": {},
   "source": [
    "## Assesing Data"
   ]
  },
  {
   "cell_type": "code",
   "execution_count": null,
   "metadata": {},
   "outputs": [],
   "source": [
    "df.info()"
   ]
  },
  {
   "cell_type": "markdown",
   "metadata": {},
   "source": [
    "Disini, kami melihat info terkait nama kolom pada dataset beserta tipe data dari masing-masing kolom. Terlihat bahwa terdapat beberapa kolom yang memiliki tipe data yang salah diantaranya:\n",
    "1. bathroom\n",
    "2. beds\n",
    "3. guests\n",
    "4. booking_received_timestamp\n",
    "5. booking_check_in\n",
    "6. booking_check_out"
   ]
  },
  {
   "cell_type": "code",
   "execution_count": null,
   "metadata": {},
   "outputs": [],
   "source": [
    "print('Jumlah missing value pada tiap kolom:')\n",
    "df.isnull().sum()"
   ]
  },
  {
   "cell_type": "markdown",
   "metadata": {},
   "source": [
    "Disini, kami melihat bahwa terdapat beberapa kolom yang memiliki missing value diantaranya:\n",
    "1. bathroom\n",
    "2. beds\n",
    "3. guests\n",
    "4. lat\n",
    "5. lng\n",
    "6. distance_to_coastline\n",
    "7. review_sentiment_score\n",
    "8. rating\n",
    "9. avg_review_sentiment_score"
   ]
  },
  {
   "cell_type": "code",
   "execution_count": null,
   "metadata": {},
   "outputs": [],
   "source": [
    "plt.figure(figsize=(8, 5))\n",
    "sns.heatmap(df.isnull())\n",
    "plt.title('Heatmap Missing Value')\n",
    "plt.show()"
   ]
  },
  {
   "cell_type": "markdown",
   "metadata": {},
   "source": [
    "Disini, kami melakukan visualisasi terkait missing value untuk mendapatkan gambaran secara visual."
   ]
  },
  {
   "cell_type": "code",
   "execution_count": null,
   "metadata": {},
   "outputs": [],
   "source": [
    "df.describe()"
   ]
  },
  {
   "cell_type": "markdown",
   "metadata": {},
   "source": [
    "Disini, kami melihat statistik dari dataframe dengan kolom berisi data numerik."
   ]
  },
  {
   "cell_type": "code",
   "execution_count": null,
   "metadata": {},
   "outputs": [],
   "source": [
    "for column_name in df.columns:\n",
    "    # Get distinct values for each column\n",
    "    distinct_values = df[column_name].unique()\n",
    "    \n",
    "    # Print column name and distinct values\n",
    "    print(\"Column Name:\", column_name)\n",
    "    print(\"Distinct Values:\", distinct_values, \"\\n\")"
   ]
  },
  {
   "cell_type": "markdown",
   "metadata": {},
   "source": [
    "Disini, kami melihat distinct value pada setiap kolom."
   ]
  },
  {
   "cell_type": "code",
   "execution_count": null,
   "metadata": {},
   "outputs": [],
   "source": [
    "print(\"Jumlah data duplikat pada dataframe adalah {}\".format(df.duplicated().sum()))"
   ]
  },
  {
   "cell_type": "markdown",
   "metadata": {},
   "source": [
    "Pada dataset Bukit Vista, memiliki jumlah data duplikat sebanyak 8.043."
   ]
  },
  {
   "cell_type": "markdown",
   "metadata": {},
   "source": [
    "## Cleaning Data"
   ]
  },
  {
   "cell_type": "code",
   "execution_count": null,
   "metadata": {},
   "outputs": [],
   "source": [
    "# List of column names to drop\n",
    "columns_to_drop = ['unit_id', \n",
    "                   'essentials', \n",
    "                   'property_bedrooms',\n",
    "                   'booking_received_timestamp',\n",
    "                   'booking_check_in',\n",
    "                   'booking_check_out',\n",
    "                   'distance_to_coastline',\n",
    "                   'review_sentiment_score',\n",
    "                   'booking_earned']\n",
    "\n",
    "# Drop the specified columns\n",
    "df.drop(columns=columns_to_drop, inplace=True)"
   ]
  },
  {
   "cell_type": "markdown",
   "metadata": {},
   "source": [
    "Kami melakukan drop pada beberapa kolom yang ada pada dataframe dengan alasan sebagai berikut:\n",
    "1. unit_id: melakukan prediksi hanya menggunakan property name dan room_id \n",
    "2. essentials: valuenya hanya angka 1\n",
    "5. property_bedrooms: melakukan prediksi hanya menggunakan property name dan room_id\n",
    "6. booking_received_timestamp: telah digunakan untuk melakukan feature engineering bernama kolom booking_window\n",
    "7. booking_check_in: telah digunakan untuk melakukan feature engineering bernama kolom booking_window dan stay_duration_in_days\n",
    "8. booking_check_out: telah digunakan untuk melakukan feature engineering bernama kolom stay_duration_in_days \n",
    "9. booking_earned: telah digunakan untuk melakukan feature engineering bernama kolom average_daily_rate"
   ]
  },
  {
   "cell_type": "code",
   "execution_count": null,
   "metadata": {},
   "outputs": [],
   "source": [
    "# from fancyimpute import IterativeImputer\n",
    "# mice_imputer = IterativeImputer()\n",
    "\n",
    "# columns_to_impute = ['bathroom', \n",
    "#                      'beds', \n",
    "#                      'guests',\n",
    "#                      'lat',\n",
    "#                      'lng',\n",
    "#                      'rating',\n",
    "#                      'avg_review_sentiment_score']\n",
    "\n",
    "# # Perform imputation only on selected columns\n",
    "# imputed_values = mice_imputer.fit_transform(df[columns_to_impute])\n",
    "\n",
    "# # Create a DataFrame from imputed values\n",
    "# imputed_df = pd.DataFrame(imputed_values, columns=columns_to_impute)\n",
    "\n",
    "# # Replace original columns with imputed values\n",
    "# df[columns_to_impute] = imputed_df\n",
    "\n",
    "from sklearn.impute import SimpleImputer\n",
    "\n",
    "# Separate numeric columns\n",
    "numeric_df = df.select_dtypes(include=['number'])\n",
    "\n",
    "# Separate non-numeric columns\n",
    "non_numeric_df = df.select_dtypes(exclude=['number'])\n",
    "\n",
    "# Initialize the SimpleImputer with mean strategy\n",
    "imputer = SimpleImputer(strategy='mean')\n",
    "\n",
    "# Apply the imputer to the numeric dataframe\n",
    "imputed_numeric_df = pd.DataFrame(imputer.fit_transform(numeric_df), columns=numeric_df.columns, index=numeric_df.index)\n",
    "\n",
    "# Combine the numeric and non-numeric dataframes\n",
    "df = pd.concat([non_numeric_df, imputed_numeric_df], axis=1)\n",
    "\n",
    "df.shape"
   ]
  },
  {
   "cell_type": "markdown",
   "metadata": {},
   "source": [
    "Kami melakukan imputasi data menggunakan fancy impute atau MICE. MICE adalah Multiple Imputation by Chained Equations. Alasan kami menggunakan MICE dikarenakan missing value pada dataset terlalu banyak."
   ]
  },
  {
   "cell_type": "code",
   "execution_count": null,
   "metadata": {},
   "outputs": [],
   "source": [
    "# Convert float columns to int\n",
    "df['bathroom'] = df['bathroom'].astype(int)\n",
    "df['beds'] = df['beds'].astype(int)\n",
    "df['guests'] = df['guests'].astype(int)\n",
    "\n",
    "# Convert object columns to datetime\n",
    "#df['booking_received_timestamp'] = pd.to_datetime(df['booking_received_timestamp'])\n",
    "# df['booking_check_in'] = pd.to_datetime(df['booking_check_in'])\n",
    "# df['booking_check_out'] = pd.to_datetime(df['booking_check_out'])"
   ]
  },
  {
   "cell_type": "markdown",
   "metadata": {},
   "source": [
    "Berdasarkan info yang telah kami peroleh, maka kami mengubah tipe data pada beberapa kolom. "
   ]
  },
  {
   "cell_type": "code",
   "execution_count": null,
   "metadata": {},
   "outputs": [],
   "source": [
    "df.drop_duplicates(inplace=True)\n",
    "print(\"Jumlah data duplikat pada dataframe adalah {}\".format(df.duplicated().sum()))"
   ]
  },
  {
   "cell_type": "markdown",
   "metadata": {},
   "source": [
    "Kami menghapus data duplikat pada dataframe. Dapat dilihat bahwa jumlah data duplikat saat ini berjumlah 0 baris."
   ]
  },
  {
   "cell_type": "code",
   "execution_count": null,
   "metadata": {},
   "outputs": [],
   "source": [
    "negative_average_daily_rate = df[df['average_daily_rate'] < 0]\n",
    "\n",
    "negative_average_daily_rate.head()"
   ]
  },
  {
   "cell_type": "markdown",
   "metadata": {},
   "source": [
    "Kami menemukan bahwa terdapat beberapa baris yang memiliki nilai average_daily_rate negatif. Average_daily_rate merupakan jumlah uang yang didapatkan dalam penyewaan properti per-hari. Oleh karena itu, tidak memungkinkan bahwa average_daily_rate tersebut bernilai negatif."
   ]
  },
  {
   "cell_type": "code",
   "execution_count": null,
   "metadata": {},
   "outputs": [],
   "source": [
    "# Directly changing negative values to positive in the original DataFrame\n",
    "df.loc[df['average_daily_rate'] < 0, 'average_daily_rate'] = df['average_daily_rate'].abs()\n",
    "\n",
    "print(\"Jumlah row dengan negative average daily rate saat ini :\", df[df['average_daily_rate'] < 0].shape[0])"
   ]
  },
  {
   "cell_type": "markdown",
   "metadata": {},
   "source": [
    "Sehingga, kami mengubah beberapa baris yang memiliki nilai average_daily_rate yang semula negatif menjadi positif."
   ]
  },
  {
   "cell_type": "code",
   "execution_count": null,
   "metadata": {},
   "outputs": [],
   "source": [
    "zero_booking_earned = df[df['average_daily_rate'] == 0]\n",
    "\n",
    "zero_booking_earned.head()"
   ]
  },
  {
   "cell_type": "markdown",
   "metadata": {},
   "source": [
    "Kami menemukan bahwa terdapat beberapa baris yang memiliki nilai average_daily_rate nol. Average_daily_rate merupakan jumlah uang yang didapatkan dalam penyewaan properti per-hari. Oleh karena itu, tidak memungkinkan bahwa average_daily_rate tersebut bernilai nol."
   ]
  },
  {
   "cell_type": "code",
   "execution_count": null,
   "metadata": {},
   "outputs": [],
   "source": [
    "df = df[df['average_daily_rate'] != 0]"
   ]
  },
  {
   "cell_type": "code",
   "execution_count": null,
   "metadata": {},
   "outputs": [],
   "source": [
    "print(\"Jumlah row dengan nol booking earned saat ini :\", df[df['average_daily_rate'] == 0].shape[0])"
   ]
  },
  {
   "cell_type": "markdown",
   "metadata": {},
   "source": [
    "Dapat dilihat bahwa jumlah row dengan nol booking earned saat ini berjumlah nol."
   ]
  },
  {
   "cell_type": "code",
   "execution_count": null,
   "metadata": {},
   "outputs": [],
   "source": [
    "negative_booking_window = df[df['booking_window'] < 0]\n",
    "\n",
    "negative_booking_window.shape"
   ]
  },
  {
   "cell_type": "markdown",
   "metadata": {},
   "source": [
    "Kami melakukan pengecekan baris booking_window yang bernilai negatif. Terlihat bahwa baris booking_window yang bernilai negatif sebanyak 5 baris."
   ]
  },
  {
   "cell_type": "code",
   "execution_count": null,
   "metadata": {},
   "outputs": [],
   "source": [
    "df = df[df['booking_window'] >= 0]"
   ]
  },
  {
   "cell_type": "code",
   "execution_count": null,
   "metadata": {},
   "outputs": [],
   "source": [
    "print(\"Jumlah row dengan negatif booking window saat ini :\", df[df['booking_window'] < 0].shape[0])"
   ]
  },
  {
   "cell_type": "markdown",
   "metadata": {},
   "source": [
    "Kami menghapus baris pada dataframe yang memiliki nilai booking_window negatif."
   ]
  },
  {
   "cell_type": "code",
   "execution_count": null,
   "metadata": {},
   "outputs": [],
   "source": [
    "print(\"Dataset Bukit Vista setelah preprocessing memiliki {} baris dan {} kolom\".format(df.shape[0], df.shape[1]))"
   ]
  },
  {
   "cell_type": "markdown",
   "metadata": {},
   "source": [
    "Setelah dilakukan preprocessing, dataset Bukit Vista saat ini memiliki jumlah baris sebanyak 58.916 dan jumlah kolom sebanyak 40."
   ]
  },
  {
   "cell_type": "markdown",
   "metadata": {},
   "source": [
    "## Exploratory Data Analysis"
   ]
  },
  {
   "cell_type": "code",
   "execution_count": null,
   "metadata": {},
   "outputs": [],
   "source": [
    "# cari stay in day biasanya berapa\n",
    "stay_duration_count = df['stay_duration_in_days'].value_counts().sort_index()\n",
    "\n",
    "# buat plotnya\n",
    "plt.figure(figsize=(10, 6))\n",
    "stay_duration_count.plot(kind='bar', color='blue', edgecolor='black')\n",
    "plt.xlabel('Stay Duration in Days')\n",
    "plt.ylabel('Frequency')\n",
    "plt.title('Frequency of Stay Duration in Days')\n",
    "plt.xticks(rotation=45)\n",
    "plt.show()"
   ]
  },
  {
   "cell_type": "markdown",
   "metadata": {},
   "source": [
    "Disini kami mencari tahu pada umumnya, seberapa lama tamu menginap pada properti-properti yang dikelola oleh Bukit Vista. Dapat dilihat bahwa kebanyakan tamu menginap selama 2 hari."
   ]
  },
  {
   "cell_type": "code",
   "execution_count": null,
   "metadata": {},
   "outputs": [],
   "source": [
    " # buat plotnya\n",
    "plt.figure(figsize=(15, 6))\n",
    "plt.hist(df['booking_window'], bins=20, color='blue', edgecolor='black')\n",
    "plt.xlabel('Days')\n",
    "plt.ylabel('Frequency')\n",
    "plt.title('Booking Window in Days')\n",
    "plt.xticks(rotation=45)\n",
    "plt.show()"
   ]
  },
  {
   "cell_type": "markdown",
   "metadata": {},
   "source": [
    "Disini, kami mencari tahu berapa frekuensi booking window dengan histogram yang memiliki 20 bins. Dapat dilihat bahwa data condong ke kanan."
   ]
  },
  {
   "cell_type": "code",
   "execution_count": null,
   "metadata": {},
   "outputs": [],
   "source": [
    "# Create a new DataFrame with the rounded rating column\n",
    "df_rounded = df.copy()\n",
    "df_rounded['rating_rounded'] = df['avg_rating'].round(1)\n",
    "\n",
    "# Count the occurrences of each rounded rating\n",
    "rating_counts = df_rounded['rating_rounded'].value_counts().sort_index()\n",
    "\n",
    "# Plot the bar chart\n",
    "plt.figure(figsize=(10, 6))\n",
    "rating_counts.plot(kind='bar', color='blue', edgecolor='black')\n",
    "\n",
    "# Set labels and title\n",
    "plt.xlabel('Rating')\n",
    "plt.ylabel('Count')\n",
    "plt.title('Distribution of Ratings')\n",
    "plt.xticks(rotation=0)  # Ensure x-axis labels are horizontal\n",
    "\n",
    "# Show the plot\n",
    "plt.show()"
   ]
  },
  {
   "cell_type": "markdown",
   "metadata": {},
   "source": [
    "Disini, kami mencari tahu sebaran dari kolom rating. Dapat dilihat bahwa kebanyakan tamu menilai properti-properti yang dikelola oleh Bukit Vista dengan nilai 5."
   ]
  },
  {
   "cell_type": "code",
   "execution_count": null,
   "metadata": {},
   "outputs": [],
   "source": [
    "# Menggambarkan korelasi antara penilaian properti dengan pemasukkan properti\n",
    "rating_booking = df.groupby('avg_rating')['average_daily_rate'].sum().reset_index()\n",
    "\n",
    "rating_booking = rating_booking.sort_values(by='avg_rating')\n",
    "\n",
    "plt.figure(figsize=(10, 6))\n",
    "plt.bar(rating_booking['avg_rating'], rating_booking['average_daily_rate'], color='blue', edgecolor='black')\n",
    "plt.xlabel('Rating')\n",
    "plt.ylabel('Average Daily Rate')\n",
    "plt.title('Average Daily Rate by Rating')\n",
    "plt.show()"
   ]
  },
  {
   "cell_type": "markdown",
   "metadata": {},
   "source": [
    "Disini, kami membuat diagram batang untuk mencari tahu apakah ada relasi antara penilaian properti dengan rata-rata uang yang didapat oleh properti tersebut per-hari. Dapat dilihat bahwa terdapat korelasi antara penilaian properti dengan rata-rata uang yang didapat oleh properti tersebut per-hari."
   ]
  },
  {
   "cell_type": "code",
   "execution_count": null,
   "metadata": {},
   "outputs": [],
   "source": [
    "# visualisasi lat dan lng\n",
    "plt.figure(figsize=(10, 6))\n",
    "plt.scatter(df['lng'], df['lat'], c='blue', alpha=0.5, edgecolors='w', s=50)\n",
    "\n",
    "# Set labels and title\n",
    "plt.xlabel('Longitude')\n",
    "plt.ylabel('Latitude')\n",
    "plt.title('Geographical Scatter Plot of Coordinates')\n",
    "\n",
    "# Show the plot\n",
    "plt.show()"
   ]
  },
  {
   "cell_type": "markdown",
   "metadata": {},
   "source": [
    "Disini kami mencoba untuk memvisualisasikan koordinat yang ada pada kolom \"lat\" dan \"lng\"."
   ]
  },
  {
   "cell_type": "code",
   "execution_count": null,
   "metadata": {},
   "outputs": [],
   "source": [
    "# Count the occurrences of each property name and sort them\n",
    "type_counts = df['property_name'].value_counts().sort_values()\n",
    "\n",
    "# Get the top 3 and bottom 3 room types\n",
    "top_3 = type_counts[-3:]\n",
    "bottom_3 = type_counts[:3]\n",
    "\n",
    "# Concatenate top 3 and bottom 3\n",
    "top_bottom_3 = pd.concat([bottom_3, top_3])\n",
    "\n",
    "# Plot the bar chart\n",
    "plt.figure(figsize=(10, 6))\n",
    "top_bottom_3.plot(kind='barh', color='blue', edgecolor='black')  # Use horizontal bar chart\n",
    "\n",
    "# Set labels and title\n",
    "plt.xlabel('Count')\n",
    "plt.ylabel('Property Name')\n",
    "plt.title('Top 3 and Bottom 3 Property Name by Visit Count')\n",
    "\n",
    "# Show the plot\n",
    "plt.show()"
   ]
  },
  {
   "cell_type": "markdown",
   "metadata": {},
   "source": [
    "Disini kami memvisualisasikan perbedaan jumlah pengunjung berdasarkan nama ruangan, dan menampilkan hanya berdasarkan 3 terbanyak dan 3 terendah."
   ]
  },
  {
   "cell_type": "code",
   "execution_count": null,
   "metadata": {},
   "outputs": [],
   "source": [
    "num_columns = len(df.columns)\n",
    "num_rows = (num_columns + 2) // 3\n",
    "\n",
    "plt.figure(figsize=(15, 5 * num_rows))\n",
    "\n",
    "for i, column in enumerate(df.select_dtypes(include=['number'])):\n",
    "    plt.subplot(num_rows, 3, i + 1)\n",
    "    sns.boxplot(x=df[column], color=\"blue\")\n",
    "    plt.title(f'Box Plot for {column}')\n",
    "\n",
    "plt.tight_layout()\n",
    "plt.show()"
   ]
  },
  {
   "cell_type": "markdown",
   "metadata": {},
   "source": [
    "Disini, kami melakukan visualisasi menggunakan boxplot untuk mencari outlier."
   ]
  },
  {
   "cell_type": "code",
   "execution_count": null,
   "metadata": {},
   "outputs": [],
   "source": [
    "numeric_columns = df.select_dtypes(include=['number'])\n",
    "\n",
    "plt.figure(figsize=(25,20))\n",
    "sns.heatmap(numeric_columns.corr(), annot=True, cmap='coolwarm', fmt='.2f')\n",
    "plt.title('Korelasi Heatmap dari kolom-kolom numerik')\n",
    "plt.show()"
   ]
  },
  {
   "cell_type": "markdown",
   "metadata": {},
   "source": [
    "Disini, kami memvisualisasikan korelasi antara semua kolom numerik, dan diberi warna berdasarkan tingkat korelasinya menggunakan heatmap."
   ]
  },
  {
   "cell_type": "markdown",
   "metadata": {},
   "source": [
    "## Save Data into CSV"
   ]
  },
  {
   "cell_type": "code",
   "execution_count": null,
   "metadata": {},
   "outputs": [],
   "source": [
    "# cara mendownload data hasil preprocessing :\n",
    "path = os.path.join(os.path.dirname(raw_data_path), 'preprocessed_data.csv')\n",
    "df.to_csv('preprocessed_data.csv', index=False)"
   ]
  },
  {
   "cell_type": "markdown",
   "metadata": {},
   "source": [
    "Kami menyimpan data hasil preprocessing dengan nama preprocessed_data.csv"
   ]
  }
 ],
 "metadata": {
  "kernelspec": {
   "display_name": "Python 3",
   "language": "python",
   "name": "python3"
  },
  "language_info": {
   "codemirror_mode": {
    "name": "ipython",
    "version": 3
   },
   "file_extension": ".py",
   "mimetype": "text/x-python",
   "name": "python",
   "nbconvert_exporter": "python",
   "pygments_lexer": "ipython3",
   "version": "3.10.0"
  }
 },
 "nbformat": 4,
 "nbformat_minor": 2
}
